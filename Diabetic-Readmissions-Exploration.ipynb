{
 "cells": [
  {
   "cell_type": "code",
   "execution_count": 1,
   "id": "17f6998e-100d-4811-b974-3e07040d43ce",
   "metadata": {
    "tags": []
   },
   "outputs": [],
   "source": [
    "import pandas as pd\n",
    "import numpy as np\n",
    "import matplotlib.pyplot as plt\n",
    "import zipfile\n",
    "import seaborn as sns"
   ]
  },
  {
   "cell_type": "code",
   "execution_count": 2,
   "id": "c6f46348-0429-405e-8f5e-d0ede79804ad",
   "metadata": {
    "tags": []
   },
   "outputs": [],
   "source": [
    "pd.set_option('display.max_columns', None)"
   ]
  },
  {
   "cell_type": "markdown",
   "id": "bc23294a-a920-4d54-9b52-4630d529c49e",
   "metadata": {},
   "source": [
    "<h1> Data Ingestion </h1>"
   ]
  },
  {
   "cell_type": "markdown",
   "id": "8c938e55-4438-45f7-b159-835e4d3054d7",
   "metadata": {},
   "source": [
    "Briefly explain the data. What kind of data and the direction of the project"
   ]
  },
  {
   "cell_type": "markdown",
   "id": "fe8f2e66-20a9-4b71-889d-a3acc1a8cd0a",
   "metadata": {},
   "source": [
    "Downloading the Data from UCI"
   ]
  },
  {
   "cell_type": "code",
   "execution_count": 3,
   "id": "7b021c59-6a95-4bd0-a833-a44d42e85b7e",
   "metadata": {
    "tags": []
   },
   "outputs": [],
   "source": [
    "!curl -s -o diabetes.zip \"https://archive.ics.uci.edu/static/public/296/diabetes+130-us+hospitals+for+years+1999-2008.zip\""
   ]
  },
  {
   "cell_type": "markdown",
   "id": "892ebeef-5442-45f0-b8b9-b846561ab75e",
   "metadata": {},
   "source": [
    "Extract the required file from the zip folder"
   ]
  },
  {
   "cell_type": "code",
   "execution_count": 4,
   "id": "4d708fab-c394-421e-a608-101b7d01b99a",
   "metadata": {
    "tags": []
   },
   "outputs": [],
   "source": [
    "with zipfile.ZipFile(\"diabetes.zip\", 'r') as zip_ref:\n",
    "    zip_ref.extractall()"
   ]
  },
  {
   "cell_type": "markdown",
   "id": "61f89f2c-c8f3-4b64-bc97-937a550ff758",
   "metadata": {},
   "source": [
    "<h1> Data Exploration </h1>"
   ]
  },
  {
   "cell_type": "markdown",
   "id": "c8c59ca6-8f5a-476b-8fd0-e800fc258757",
   "metadata": {},
   "source": [
    "<h2> Reading Diabetic Data </h2>"
   ]
  },
  {
   "cell_type": "code",
   "execution_count": 3,
   "id": "a0f39da9-d2c1-4ce0-9bf7-7bbf7c76f12f",
   "metadata": {
    "tags": []
   },
   "outputs": [],
   "source": [
    "raw_data = pd.read_csv(\"diabetic_data.csv\")"
   ]
  },
  {
   "cell_type": "code",
   "execution_count": 4,
   "id": "b8ea1e91-e818-4235-82a5-95f04867d77d",
   "metadata": {
    "tags": []
   },
   "outputs": [
    {
     "data": {
      "text/html": [
       "<div>\n",
       "<style scoped>\n",
       "    .dataframe tbody tr th:only-of-type {\n",
       "        vertical-align: middle;\n",
       "    }\n",
       "\n",
       "    .dataframe tbody tr th {\n",
       "        vertical-align: top;\n",
       "    }\n",
       "\n",
       "    .dataframe thead th {\n",
       "        text-align: right;\n",
       "    }\n",
       "</style>\n",
       "<table border=\"1\" class=\"dataframe\">\n",
       "  <thead>\n",
       "    <tr style=\"text-align: right;\">\n",
       "      <th></th>\n",
       "      <th>encounter_id</th>\n",
       "      <th>patient_nbr</th>\n",
       "      <th>race</th>\n",
       "      <th>gender</th>\n",
       "      <th>age</th>\n",
       "      <th>weight</th>\n",
       "      <th>admission_type_id</th>\n",
       "      <th>discharge_disposition_id</th>\n",
       "      <th>admission_source_id</th>\n",
       "      <th>time_in_hospital</th>\n",
       "      <th>payer_code</th>\n",
       "      <th>medical_specialty</th>\n",
       "      <th>num_lab_procedures</th>\n",
       "      <th>num_procedures</th>\n",
       "      <th>num_medications</th>\n",
       "      <th>number_outpatient</th>\n",
       "      <th>number_emergency</th>\n",
       "      <th>number_inpatient</th>\n",
       "      <th>diag_1</th>\n",
       "      <th>diag_2</th>\n",
       "      <th>diag_3</th>\n",
       "      <th>number_diagnoses</th>\n",
       "      <th>max_glu_serum</th>\n",
       "      <th>A1Cresult</th>\n",
       "      <th>metformin</th>\n",
       "      <th>repaglinide</th>\n",
       "      <th>nateglinide</th>\n",
       "      <th>chlorpropamide</th>\n",
       "      <th>glimepiride</th>\n",
       "      <th>acetohexamide</th>\n",
       "      <th>glipizide</th>\n",
       "      <th>glyburide</th>\n",
       "      <th>tolbutamide</th>\n",
       "      <th>pioglitazone</th>\n",
       "      <th>rosiglitazone</th>\n",
       "      <th>acarbose</th>\n",
       "      <th>miglitol</th>\n",
       "      <th>troglitazone</th>\n",
       "      <th>tolazamide</th>\n",
       "      <th>examide</th>\n",
       "      <th>citoglipton</th>\n",
       "      <th>insulin</th>\n",
       "      <th>glyburide-metformin</th>\n",
       "      <th>glipizide-metformin</th>\n",
       "      <th>glimepiride-pioglitazone</th>\n",
       "      <th>metformin-rosiglitazone</th>\n",
       "      <th>metformin-pioglitazone</th>\n",
       "      <th>change</th>\n",
       "      <th>diabetesMed</th>\n",
       "      <th>readmitted</th>\n",
       "    </tr>\n",
       "  </thead>\n",
       "  <tbody>\n",
       "    <tr>\n",
       "      <th>0</th>\n",
       "      <td>2278392</td>\n",
       "      <td>8222157</td>\n",
       "      <td>Caucasian</td>\n",
       "      <td>Female</td>\n",
       "      <td>[0-10)</td>\n",
       "      <td>?</td>\n",
       "      <td>6</td>\n",
       "      <td>25</td>\n",
       "      <td>1</td>\n",
       "      <td>1</td>\n",
       "      <td>?</td>\n",
       "      <td>Pediatrics-Endocrinology</td>\n",
       "      <td>41</td>\n",
       "      <td>0</td>\n",
       "      <td>1</td>\n",
       "      <td>0</td>\n",
       "      <td>0</td>\n",
       "      <td>0</td>\n",
       "      <td>250.83</td>\n",
       "      <td>?</td>\n",
       "      <td>?</td>\n",
       "      <td>1</td>\n",
       "      <td>None</td>\n",
       "      <td>None</td>\n",
       "      <td>No</td>\n",
       "      <td>No</td>\n",
       "      <td>No</td>\n",
       "      <td>No</td>\n",
       "      <td>No</td>\n",
       "      <td>No</td>\n",
       "      <td>No</td>\n",
       "      <td>No</td>\n",
       "      <td>No</td>\n",
       "      <td>No</td>\n",
       "      <td>No</td>\n",
       "      <td>No</td>\n",
       "      <td>No</td>\n",
       "      <td>No</td>\n",
       "      <td>No</td>\n",
       "      <td>No</td>\n",
       "      <td>No</td>\n",
       "      <td>No</td>\n",
       "      <td>No</td>\n",
       "      <td>No</td>\n",
       "      <td>No</td>\n",
       "      <td>No</td>\n",
       "      <td>No</td>\n",
       "      <td>No</td>\n",
       "      <td>No</td>\n",
       "      <td>NO</td>\n",
       "    </tr>\n",
       "    <tr>\n",
       "      <th>1</th>\n",
       "      <td>149190</td>\n",
       "      <td>55629189</td>\n",
       "      <td>Caucasian</td>\n",
       "      <td>Female</td>\n",
       "      <td>[10-20)</td>\n",
       "      <td>?</td>\n",
       "      <td>1</td>\n",
       "      <td>1</td>\n",
       "      <td>7</td>\n",
       "      <td>3</td>\n",
       "      <td>?</td>\n",
       "      <td>?</td>\n",
       "      <td>59</td>\n",
       "      <td>0</td>\n",
       "      <td>18</td>\n",
       "      <td>0</td>\n",
       "      <td>0</td>\n",
       "      <td>0</td>\n",
       "      <td>276</td>\n",
       "      <td>250.01</td>\n",
       "      <td>255</td>\n",
       "      <td>9</td>\n",
       "      <td>None</td>\n",
       "      <td>None</td>\n",
       "      <td>No</td>\n",
       "      <td>No</td>\n",
       "      <td>No</td>\n",
       "      <td>No</td>\n",
       "      <td>No</td>\n",
       "      <td>No</td>\n",
       "      <td>No</td>\n",
       "      <td>No</td>\n",
       "      <td>No</td>\n",
       "      <td>No</td>\n",
       "      <td>No</td>\n",
       "      <td>No</td>\n",
       "      <td>No</td>\n",
       "      <td>No</td>\n",
       "      <td>No</td>\n",
       "      <td>No</td>\n",
       "      <td>No</td>\n",
       "      <td>Up</td>\n",
       "      <td>No</td>\n",
       "      <td>No</td>\n",
       "      <td>No</td>\n",
       "      <td>No</td>\n",
       "      <td>No</td>\n",
       "      <td>Ch</td>\n",
       "      <td>Yes</td>\n",
       "      <td>&gt;30</td>\n",
       "    </tr>\n",
       "    <tr>\n",
       "      <th>2</th>\n",
       "      <td>64410</td>\n",
       "      <td>86047875</td>\n",
       "      <td>AfricanAmerican</td>\n",
       "      <td>Female</td>\n",
       "      <td>[20-30)</td>\n",
       "      <td>?</td>\n",
       "      <td>1</td>\n",
       "      <td>1</td>\n",
       "      <td>7</td>\n",
       "      <td>2</td>\n",
       "      <td>?</td>\n",
       "      <td>?</td>\n",
       "      <td>11</td>\n",
       "      <td>5</td>\n",
       "      <td>13</td>\n",
       "      <td>2</td>\n",
       "      <td>0</td>\n",
       "      <td>1</td>\n",
       "      <td>648</td>\n",
       "      <td>250</td>\n",
       "      <td>V27</td>\n",
       "      <td>6</td>\n",
       "      <td>None</td>\n",
       "      <td>None</td>\n",
       "      <td>No</td>\n",
       "      <td>No</td>\n",
       "      <td>No</td>\n",
       "      <td>No</td>\n",
       "      <td>No</td>\n",
       "      <td>No</td>\n",
       "      <td>Steady</td>\n",
       "      <td>No</td>\n",
       "      <td>No</td>\n",
       "      <td>No</td>\n",
       "      <td>No</td>\n",
       "      <td>No</td>\n",
       "      <td>No</td>\n",
       "      <td>No</td>\n",
       "      <td>No</td>\n",
       "      <td>No</td>\n",
       "      <td>No</td>\n",
       "      <td>No</td>\n",
       "      <td>No</td>\n",
       "      <td>No</td>\n",
       "      <td>No</td>\n",
       "      <td>No</td>\n",
       "      <td>No</td>\n",
       "      <td>No</td>\n",
       "      <td>Yes</td>\n",
       "      <td>NO</td>\n",
       "    </tr>\n",
       "    <tr>\n",
       "      <th>3</th>\n",
       "      <td>500364</td>\n",
       "      <td>82442376</td>\n",
       "      <td>Caucasian</td>\n",
       "      <td>Male</td>\n",
       "      <td>[30-40)</td>\n",
       "      <td>?</td>\n",
       "      <td>1</td>\n",
       "      <td>1</td>\n",
       "      <td>7</td>\n",
       "      <td>2</td>\n",
       "      <td>?</td>\n",
       "      <td>?</td>\n",
       "      <td>44</td>\n",
       "      <td>1</td>\n",
       "      <td>16</td>\n",
       "      <td>0</td>\n",
       "      <td>0</td>\n",
       "      <td>0</td>\n",
       "      <td>8</td>\n",
       "      <td>250.43</td>\n",
       "      <td>403</td>\n",
       "      <td>7</td>\n",
       "      <td>None</td>\n",
       "      <td>None</td>\n",
       "      <td>No</td>\n",
       "      <td>No</td>\n",
       "      <td>No</td>\n",
       "      <td>No</td>\n",
       "      <td>No</td>\n",
       "      <td>No</td>\n",
       "      <td>No</td>\n",
       "      <td>No</td>\n",
       "      <td>No</td>\n",
       "      <td>No</td>\n",
       "      <td>No</td>\n",
       "      <td>No</td>\n",
       "      <td>No</td>\n",
       "      <td>No</td>\n",
       "      <td>No</td>\n",
       "      <td>No</td>\n",
       "      <td>No</td>\n",
       "      <td>Up</td>\n",
       "      <td>No</td>\n",
       "      <td>No</td>\n",
       "      <td>No</td>\n",
       "      <td>No</td>\n",
       "      <td>No</td>\n",
       "      <td>Ch</td>\n",
       "      <td>Yes</td>\n",
       "      <td>NO</td>\n",
       "    </tr>\n",
       "    <tr>\n",
       "      <th>4</th>\n",
       "      <td>16680</td>\n",
       "      <td>42519267</td>\n",
       "      <td>Caucasian</td>\n",
       "      <td>Male</td>\n",
       "      <td>[40-50)</td>\n",
       "      <td>?</td>\n",
       "      <td>1</td>\n",
       "      <td>1</td>\n",
       "      <td>7</td>\n",
       "      <td>1</td>\n",
       "      <td>?</td>\n",
       "      <td>?</td>\n",
       "      <td>51</td>\n",
       "      <td>0</td>\n",
       "      <td>8</td>\n",
       "      <td>0</td>\n",
       "      <td>0</td>\n",
       "      <td>0</td>\n",
       "      <td>197</td>\n",
       "      <td>157</td>\n",
       "      <td>250</td>\n",
       "      <td>5</td>\n",
       "      <td>None</td>\n",
       "      <td>None</td>\n",
       "      <td>No</td>\n",
       "      <td>No</td>\n",
       "      <td>No</td>\n",
       "      <td>No</td>\n",
       "      <td>No</td>\n",
       "      <td>No</td>\n",
       "      <td>Steady</td>\n",
       "      <td>No</td>\n",
       "      <td>No</td>\n",
       "      <td>No</td>\n",
       "      <td>No</td>\n",
       "      <td>No</td>\n",
       "      <td>No</td>\n",
       "      <td>No</td>\n",
       "      <td>No</td>\n",
       "      <td>No</td>\n",
       "      <td>No</td>\n",
       "      <td>Steady</td>\n",
       "      <td>No</td>\n",
       "      <td>No</td>\n",
       "      <td>No</td>\n",
       "      <td>No</td>\n",
       "      <td>No</td>\n",
       "      <td>Ch</td>\n",
       "      <td>Yes</td>\n",
       "      <td>NO</td>\n",
       "    </tr>\n",
       "  </tbody>\n",
       "</table>\n",
       "</div>"
      ],
      "text/plain": [
       "   encounter_id  patient_nbr             race  gender      age weight  \\\n",
       "0       2278392      8222157        Caucasian  Female   [0-10)      ?   \n",
       "1        149190     55629189        Caucasian  Female  [10-20)      ?   \n",
       "2         64410     86047875  AfricanAmerican  Female  [20-30)      ?   \n",
       "3        500364     82442376        Caucasian    Male  [30-40)      ?   \n",
       "4         16680     42519267        Caucasian    Male  [40-50)      ?   \n",
       "\n",
       "   admission_type_id  discharge_disposition_id  admission_source_id  \\\n",
       "0                  6                        25                    1   \n",
       "1                  1                         1                    7   \n",
       "2                  1                         1                    7   \n",
       "3                  1                         1                    7   \n",
       "4                  1                         1                    7   \n",
       "\n",
       "   time_in_hospital payer_code         medical_specialty  num_lab_procedures  \\\n",
       "0                 1          ?  Pediatrics-Endocrinology                  41   \n",
       "1                 3          ?                         ?                  59   \n",
       "2                 2          ?                         ?                  11   \n",
       "3                 2          ?                         ?                  44   \n",
       "4                 1          ?                         ?                  51   \n",
       "\n",
       "   num_procedures  num_medications  number_outpatient  number_emergency  \\\n",
       "0               0                1                  0                 0   \n",
       "1               0               18                  0                 0   \n",
       "2               5               13                  2                 0   \n",
       "3               1               16                  0                 0   \n",
       "4               0                8                  0                 0   \n",
       "\n",
       "   number_inpatient  diag_1  diag_2 diag_3  number_diagnoses max_glu_serum  \\\n",
       "0                 0  250.83       ?      ?                 1          None   \n",
       "1                 0     276  250.01    255                 9          None   \n",
       "2                 1     648     250    V27                 6          None   \n",
       "3                 0       8  250.43    403                 7          None   \n",
       "4                 0     197     157    250                 5          None   \n",
       "\n",
       "  A1Cresult metformin repaglinide nateglinide chlorpropamide glimepiride  \\\n",
       "0      None        No          No          No             No          No   \n",
       "1      None        No          No          No             No          No   \n",
       "2      None        No          No          No             No          No   \n",
       "3      None        No          No          No             No          No   \n",
       "4      None        No          No          No             No          No   \n",
       "\n",
       "  acetohexamide glipizide glyburide tolbutamide pioglitazone rosiglitazone  \\\n",
       "0            No        No        No          No           No            No   \n",
       "1            No        No        No          No           No            No   \n",
       "2            No    Steady        No          No           No            No   \n",
       "3            No        No        No          No           No            No   \n",
       "4            No    Steady        No          No           No            No   \n",
       "\n",
       "  acarbose miglitol troglitazone tolazamide examide citoglipton insulin  \\\n",
       "0       No       No           No         No      No          No      No   \n",
       "1       No       No           No         No      No          No      Up   \n",
       "2       No       No           No         No      No          No      No   \n",
       "3       No       No           No         No      No          No      Up   \n",
       "4       No       No           No         No      No          No  Steady   \n",
       "\n",
       "  glyburide-metformin glipizide-metformin glimepiride-pioglitazone  \\\n",
       "0                  No                  No                       No   \n",
       "1                  No                  No                       No   \n",
       "2                  No                  No                       No   \n",
       "3                  No                  No                       No   \n",
       "4                  No                  No                       No   \n",
       "\n",
       "  metformin-rosiglitazone metformin-pioglitazone change diabetesMed readmitted  \n",
       "0                      No                     No     No          No         NO  \n",
       "1                      No                     No     Ch         Yes        >30  \n",
       "2                      No                     No     No         Yes         NO  \n",
       "3                      No                     No     Ch         Yes         NO  \n",
       "4                      No                     No     Ch         Yes         NO  "
      ]
     },
     "execution_count": 4,
     "metadata": {},
     "output_type": "execute_result"
    }
   ],
   "source": [
    "raw_data.head(5)"
   ]
  },
  {
   "cell_type": "code",
   "execution_count": 5,
   "id": "a4cf8a45-e14a-4239-b5de-e2b510388368",
   "metadata": {
    "tags": []
   },
   "outputs": [
    {
     "name": "stdout",
     "output_type": "stream",
     "text": [
      "Dimensions of the data: 101766 rows and 50 columns\n"
     ]
    }
   ],
   "source": [
    "print(\n",
    "    f\"Dimensions of the data: {raw_data.shape[0]} rows and {raw_data.shape[1]} columns\")"
   ]
  },
  {
   "cell_type": "markdown",
   "id": "6de94def-b2d4-40a2-8b14-469bb4067236",
   "metadata": {},
   "source": [
    "<strong>It is observed that a few of the columns have the value \"?\". We need to replace them with na and then check for null values</strong>"
   ]
  },
  {
   "cell_type": "code",
   "execution_count": 6,
   "id": "c4ecf66c-4e52-496c-9977-085574202a4b",
   "metadata": {
    "tags": []
   },
   "outputs": [
    {
     "name": "stdout",
     "output_type": "stream",
     "text": [
      "<class 'pandas.core.frame.DataFrame'>\n",
      "RangeIndex: 101766 entries, 0 to 101765\n",
      "Data columns (total 50 columns):\n",
      " #   Column                    Non-Null Count   Dtype \n",
      "---  ------                    --------------   ----- \n",
      " 0   encounter_id              101766 non-null  int64 \n",
      " 1   patient_nbr               101766 non-null  int64 \n",
      " 2   race                      101766 non-null  object\n",
      " 3   gender                    101766 non-null  object\n",
      " 4   age                       101766 non-null  object\n",
      " 5   weight                    101766 non-null  object\n",
      " 6   admission_type_id         101766 non-null  int64 \n",
      " 7   discharge_disposition_id  101766 non-null  int64 \n",
      " 8   admission_source_id       101766 non-null  int64 \n",
      " 9   time_in_hospital          101766 non-null  int64 \n",
      " 10  payer_code                101766 non-null  object\n",
      " 11  medical_specialty         101766 non-null  object\n",
      " 12  num_lab_procedures        101766 non-null  int64 \n",
      " 13  num_procedures            101766 non-null  int64 \n",
      " 14  num_medications           101766 non-null  int64 \n",
      " 15  number_outpatient         101766 non-null  int64 \n",
      " 16  number_emergency          101766 non-null  int64 \n",
      " 17  number_inpatient          101766 non-null  int64 \n",
      " 18  diag_1                    101766 non-null  object\n",
      " 19  diag_2                    101766 non-null  object\n",
      " 20  diag_3                    101766 non-null  object\n",
      " 21  number_diagnoses          101766 non-null  int64 \n",
      " 22  max_glu_serum             101766 non-null  object\n",
      " 23  A1Cresult                 101766 non-null  object\n",
      " 24  metformin                 101766 non-null  object\n",
      " 25  repaglinide               101766 non-null  object\n",
      " 26  nateglinide               101766 non-null  object\n",
      " 27  chlorpropamide            101766 non-null  object\n",
      " 28  glimepiride               101766 non-null  object\n",
      " 29  acetohexamide             101766 non-null  object\n",
      " 30  glipizide                 101766 non-null  object\n",
      " 31  glyburide                 101766 non-null  object\n",
      " 32  tolbutamide               101766 non-null  object\n",
      " 33  pioglitazone              101766 non-null  object\n",
      " 34  rosiglitazone             101766 non-null  object\n",
      " 35  acarbose                  101766 non-null  object\n",
      " 36  miglitol                  101766 non-null  object\n",
      " 37  troglitazone              101766 non-null  object\n",
      " 38  tolazamide                101766 non-null  object\n",
      " 39  examide                   101766 non-null  object\n",
      " 40  citoglipton               101766 non-null  object\n",
      " 41  insulin                   101766 non-null  object\n",
      " 42  glyburide-metformin       101766 non-null  object\n",
      " 43  glipizide-metformin       101766 non-null  object\n",
      " 44  glimepiride-pioglitazone  101766 non-null  object\n",
      " 45  metformin-rosiglitazone   101766 non-null  object\n",
      " 46  metformin-pioglitazone    101766 non-null  object\n",
      " 47  change                    101766 non-null  object\n",
      " 48  diabetesMed               101766 non-null  object\n",
      " 49  readmitted                101766 non-null  object\n",
      "dtypes: int64(13), object(37)\n",
      "memory usage: 38.8+ MB\n"
     ]
    }
   ],
   "source": [
    "raw_data.info()"
   ]
  },
  {
   "cell_type": "markdown",
   "id": "8bb7fe9d-30e8-4127-8d68-3697b9f74a50",
   "metadata": {},
   "source": [
    "From the above, we observe that:\n",
    "1. There are no missing values since they are encoded as \"?\" as stated above\n",
    "2. The data types are either object or int64"
   ]
  },
  {
   "cell_type": "code",
   "execution_count": 7,
   "id": "e8b98cd3-2947-462f-9e26-d12e45eca1d5",
   "metadata": {
    "tags": []
   },
   "outputs": [
    {
     "data": {
      "text/html": [
       "<div>\n",
       "<style scoped>\n",
       "    .dataframe tbody tr th:only-of-type {\n",
       "        vertical-align: middle;\n",
       "    }\n",
       "\n",
       "    .dataframe tbody tr th {\n",
       "        vertical-align: top;\n",
       "    }\n",
       "\n",
       "    .dataframe thead th {\n",
       "        text-align: right;\n",
       "    }\n",
       "</style>\n",
       "<table border=\"1\" class=\"dataframe\">\n",
       "  <thead>\n",
       "    <tr style=\"text-align: right;\">\n",
       "      <th></th>\n",
       "      <th>encounter_id</th>\n",
       "      <th>patient_nbr</th>\n",
       "      <th>admission_type_id</th>\n",
       "      <th>discharge_disposition_id</th>\n",
       "      <th>admission_source_id</th>\n",
       "      <th>time_in_hospital</th>\n",
       "      <th>num_lab_procedures</th>\n",
       "      <th>num_procedures</th>\n",
       "      <th>num_medications</th>\n",
       "      <th>number_outpatient</th>\n",
       "      <th>number_emergency</th>\n",
       "      <th>number_inpatient</th>\n",
       "      <th>number_diagnoses</th>\n",
       "    </tr>\n",
       "  </thead>\n",
       "  <tbody>\n",
       "    <tr>\n",
       "      <th>count</th>\n",
       "      <td>1.017660e+05</td>\n",
       "      <td>1.017660e+05</td>\n",
       "      <td>101766.000000</td>\n",
       "      <td>101766.000000</td>\n",
       "      <td>101766.000000</td>\n",
       "      <td>101766.000000</td>\n",
       "      <td>101766.000000</td>\n",
       "      <td>101766.000000</td>\n",
       "      <td>101766.000000</td>\n",
       "      <td>101766.000000</td>\n",
       "      <td>101766.000000</td>\n",
       "      <td>101766.000000</td>\n",
       "      <td>101766.000000</td>\n",
       "    </tr>\n",
       "    <tr>\n",
       "      <th>mean</th>\n",
       "      <td>1.652016e+08</td>\n",
       "      <td>5.433040e+07</td>\n",
       "      <td>2.024006</td>\n",
       "      <td>3.715642</td>\n",
       "      <td>5.754437</td>\n",
       "      <td>4.395987</td>\n",
       "      <td>43.095641</td>\n",
       "      <td>1.339730</td>\n",
       "      <td>16.021844</td>\n",
       "      <td>0.369357</td>\n",
       "      <td>0.197836</td>\n",
       "      <td>0.635566</td>\n",
       "      <td>7.422607</td>\n",
       "    </tr>\n",
       "    <tr>\n",
       "      <th>std</th>\n",
       "      <td>1.026403e+08</td>\n",
       "      <td>3.869636e+07</td>\n",
       "      <td>1.445403</td>\n",
       "      <td>5.280166</td>\n",
       "      <td>4.064081</td>\n",
       "      <td>2.985108</td>\n",
       "      <td>19.674362</td>\n",
       "      <td>1.705807</td>\n",
       "      <td>8.127566</td>\n",
       "      <td>1.267265</td>\n",
       "      <td>0.930472</td>\n",
       "      <td>1.262863</td>\n",
       "      <td>1.933600</td>\n",
       "    </tr>\n",
       "    <tr>\n",
       "      <th>min</th>\n",
       "      <td>1.252200e+04</td>\n",
       "      <td>1.350000e+02</td>\n",
       "      <td>1.000000</td>\n",
       "      <td>1.000000</td>\n",
       "      <td>1.000000</td>\n",
       "      <td>1.000000</td>\n",
       "      <td>1.000000</td>\n",
       "      <td>0.000000</td>\n",
       "      <td>1.000000</td>\n",
       "      <td>0.000000</td>\n",
       "      <td>0.000000</td>\n",
       "      <td>0.000000</td>\n",
       "      <td>1.000000</td>\n",
       "    </tr>\n",
       "    <tr>\n",
       "      <th>25%</th>\n",
       "      <td>8.496119e+07</td>\n",
       "      <td>2.341322e+07</td>\n",
       "      <td>1.000000</td>\n",
       "      <td>1.000000</td>\n",
       "      <td>1.000000</td>\n",
       "      <td>2.000000</td>\n",
       "      <td>31.000000</td>\n",
       "      <td>0.000000</td>\n",
       "      <td>10.000000</td>\n",
       "      <td>0.000000</td>\n",
       "      <td>0.000000</td>\n",
       "      <td>0.000000</td>\n",
       "      <td>6.000000</td>\n",
       "    </tr>\n",
       "    <tr>\n",
       "      <th>50%</th>\n",
       "      <td>1.523890e+08</td>\n",
       "      <td>4.550514e+07</td>\n",
       "      <td>1.000000</td>\n",
       "      <td>1.000000</td>\n",
       "      <td>7.000000</td>\n",
       "      <td>4.000000</td>\n",
       "      <td>44.000000</td>\n",
       "      <td>1.000000</td>\n",
       "      <td>15.000000</td>\n",
       "      <td>0.000000</td>\n",
       "      <td>0.000000</td>\n",
       "      <td>0.000000</td>\n",
       "      <td>8.000000</td>\n",
       "    </tr>\n",
       "    <tr>\n",
       "      <th>75%</th>\n",
       "      <td>2.302709e+08</td>\n",
       "      <td>8.754595e+07</td>\n",
       "      <td>3.000000</td>\n",
       "      <td>4.000000</td>\n",
       "      <td>7.000000</td>\n",
       "      <td>6.000000</td>\n",
       "      <td>57.000000</td>\n",
       "      <td>2.000000</td>\n",
       "      <td>20.000000</td>\n",
       "      <td>0.000000</td>\n",
       "      <td>0.000000</td>\n",
       "      <td>1.000000</td>\n",
       "      <td>9.000000</td>\n",
       "    </tr>\n",
       "    <tr>\n",
       "      <th>max</th>\n",
       "      <td>4.438672e+08</td>\n",
       "      <td>1.895026e+08</td>\n",
       "      <td>8.000000</td>\n",
       "      <td>28.000000</td>\n",
       "      <td>25.000000</td>\n",
       "      <td>14.000000</td>\n",
       "      <td>132.000000</td>\n",
       "      <td>6.000000</td>\n",
       "      <td>81.000000</td>\n",
       "      <td>42.000000</td>\n",
       "      <td>76.000000</td>\n",
       "      <td>21.000000</td>\n",
       "      <td>16.000000</td>\n",
       "    </tr>\n",
       "  </tbody>\n",
       "</table>\n",
       "</div>"
      ],
      "text/plain": [
       "       encounter_id   patient_nbr  admission_type_id  \\\n",
       "count  1.017660e+05  1.017660e+05      101766.000000   \n",
       "mean   1.652016e+08  5.433040e+07           2.024006   \n",
       "std    1.026403e+08  3.869636e+07           1.445403   \n",
       "min    1.252200e+04  1.350000e+02           1.000000   \n",
       "25%    8.496119e+07  2.341322e+07           1.000000   \n",
       "50%    1.523890e+08  4.550514e+07           1.000000   \n",
       "75%    2.302709e+08  8.754595e+07           3.000000   \n",
       "max    4.438672e+08  1.895026e+08           8.000000   \n",
       "\n",
       "       discharge_disposition_id  admission_source_id  time_in_hospital  \\\n",
       "count             101766.000000        101766.000000     101766.000000   \n",
       "mean                   3.715642             5.754437          4.395987   \n",
       "std                    5.280166             4.064081          2.985108   \n",
       "min                    1.000000             1.000000          1.000000   \n",
       "25%                    1.000000             1.000000          2.000000   \n",
       "50%                    1.000000             7.000000          4.000000   \n",
       "75%                    4.000000             7.000000          6.000000   \n",
       "max                   28.000000            25.000000         14.000000   \n",
       "\n",
       "       num_lab_procedures  num_procedures  num_medications  number_outpatient  \\\n",
       "count       101766.000000   101766.000000    101766.000000      101766.000000   \n",
       "mean            43.095641        1.339730        16.021844           0.369357   \n",
       "std             19.674362        1.705807         8.127566           1.267265   \n",
       "min              1.000000        0.000000         1.000000           0.000000   \n",
       "25%             31.000000        0.000000        10.000000           0.000000   \n",
       "50%             44.000000        1.000000        15.000000           0.000000   \n",
       "75%             57.000000        2.000000        20.000000           0.000000   \n",
       "max            132.000000        6.000000        81.000000          42.000000   \n",
       "\n",
       "       number_emergency  number_inpatient  number_diagnoses  \n",
       "count     101766.000000     101766.000000     101766.000000  \n",
       "mean           0.197836          0.635566          7.422607  \n",
       "std            0.930472          1.262863          1.933600  \n",
       "min            0.000000          0.000000          1.000000  \n",
       "25%            0.000000          0.000000          6.000000  \n",
       "50%            0.000000          0.000000          8.000000  \n",
       "75%            0.000000          1.000000          9.000000  \n",
       "max           76.000000         21.000000         16.000000  "
      ]
     },
     "execution_count": 7,
     "metadata": {},
     "output_type": "execute_result"
    }
   ],
   "source": [
    "raw_data.describe()"
   ]
  },
  {
   "cell_type": "markdown",
   "id": "e1e36d40-3c76-4a59-bf0f-a80a53c75916",
   "metadata": {},
   "source": [
    "<h2>Reading the IDS mapping document</h2>"
   ]
  },
  {
   "cell_type": "code",
   "execution_count": 8,
   "id": "6640cdcc-4be1-482b-8a3e-af9c640529b5",
   "metadata": {
    "tags": []
   },
   "outputs": [],
   "source": [
    "ids_admit_type_id_mapping = pd.read_csv(\"IDS_mapping.csv\", nrows=8)"
   ]
  },
  {
   "cell_type": "code",
   "execution_count": 9,
   "id": "258db6c4-386c-4aeb-ad04-67de636921a2",
   "metadata": {
    "tags": []
   },
   "outputs": [
    {
     "data": {
      "text/html": [
       "<div>\n",
       "<style scoped>\n",
       "    .dataframe tbody tr th:only-of-type {\n",
       "        vertical-align: middle;\n",
       "    }\n",
       "\n",
       "    .dataframe tbody tr th {\n",
       "        vertical-align: top;\n",
       "    }\n",
       "\n",
       "    .dataframe thead th {\n",
       "        text-align: right;\n",
       "    }\n",
       "</style>\n",
       "<table border=\"1\" class=\"dataframe\">\n",
       "  <thead>\n",
       "    <tr style=\"text-align: right;\">\n",
       "      <th></th>\n",
       "      <th>admission_type_id</th>\n",
       "      <th>description</th>\n",
       "    </tr>\n",
       "  </thead>\n",
       "  <tbody>\n",
       "    <tr>\n",
       "      <th>0</th>\n",
       "      <td>1</td>\n",
       "      <td>Emergency</td>\n",
       "    </tr>\n",
       "    <tr>\n",
       "      <th>1</th>\n",
       "      <td>2</td>\n",
       "      <td>Urgent</td>\n",
       "    </tr>\n",
       "    <tr>\n",
       "      <th>2</th>\n",
       "      <td>3</td>\n",
       "      <td>Elective</td>\n",
       "    </tr>\n",
       "    <tr>\n",
       "      <th>3</th>\n",
       "      <td>4</td>\n",
       "      <td>Newborn</td>\n",
       "    </tr>\n",
       "    <tr>\n",
       "      <th>4</th>\n",
       "      <td>5</td>\n",
       "      <td>Not Available</td>\n",
       "    </tr>\n",
       "    <tr>\n",
       "      <th>5</th>\n",
       "      <td>6</td>\n",
       "      <td>NaN</td>\n",
       "    </tr>\n",
       "    <tr>\n",
       "      <th>6</th>\n",
       "      <td>7</td>\n",
       "      <td>Trauma Center</td>\n",
       "    </tr>\n",
       "    <tr>\n",
       "      <th>7</th>\n",
       "      <td>8</td>\n",
       "      <td>Not Mapped</td>\n",
       "    </tr>\n",
       "  </tbody>\n",
       "</table>\n",
       "</div>"
      ],
      "text/plain": [
       "   admission_type_id    description\n",
       "0                  1      Emergency\n",
       "1                  2         Urgent\n",
       "2                  3       Elective\n",
       "3                  4        Newborn\n",
       "4                  5  Not Available\n",
       "5                  6            NaN\n",
       "6                  7  Trauma Center\n",
       "7                  8     Not Mapped"
      ]
     },
     "execution_count": 9,
     "metadata": {},
     "output_type": "execute_result"
    }
   ],
   "source": [
    "ids_admit_type_id_mapping"
   ]
  },
  {
   "cell_type": "markdown",
   "id": "fbce60cb-0e6e-4d67-a348-08551243c0f2",
   "metadata": {},
   "source": [
    "Renaming columns for better readability"
   ]
  },
  {
   "cell_type": "code",
   "execution_count": 10,
   "id": "98bc277c-befe-4c23-8dcb-b61dbebc9ff0",
   "metadata": {
    "tags": []
   },
   "outputs": [],
   "source": [
    "ids_admit_type_id_mapping.rename(\n",
    "    columns={'description': 'admission_type_id_description'}, inplace=True)"
   ]
  },
  {
   "cell_type": "code",
   "execution_count": 11,
   "id": "61daaa17-8046-499a-85e2-a8f12e45a351",
   "metadata": {
    "tags": []
   },
   "outputs": [],
   "source": [
    "ids_admit_type_id_mapping['admission_type_id_description'].replace(\n",
    "    np.NaN, \"Type Removed\", inplace=True)"
   ]
  },
  {
   "cell_type": "code",
   "execution_count": 12,
   "id": "28203501-25a0-4f78-ac92-99b94bf468f1",
   "metadata": {
    "tags": []
   },
   "outputs": [
    {
     "data": {
      "text/html": [
       "<div>\n",
       "<style scoped>\n",
       "    .dataframe tbody tr th:only-of-type {\n",
       "        vertical-align: middle;\n",
       "    }\n",
       "\n",
       "    .dataframe tbody tr th {\n",
       "        vertical-align: top;\n",
       "    }\n",
       "\n",
       "    .dataframe thead th {\n",
       "        text-align: right;\n",
       "    }\n",
       "</style>\n",
       "<table border=\"1\" class=\"dataframe\">\n",
       "  <thead>\n",
       "    <tr style=\"text-align: right;\">\n",
       "      <th></th>\n",
       "      <th>admission_type_id</th>\n",
       "      <th>admission_type_id_description</th>\n",
       "    </tr>\n",
       "  </thead>\n",
       "  <tbody>\n",
       "    <tr>\n",
       "      <th>0</th>\n",
       "      <td>1</td>\n",
       "      <td>Emergency</td>\n",
       "    </tr>\n",
       "    <tr>\n",
       "      <th>1</th>\n",
       "      <td>2</td>\n",
       "      <td>Urgent</td>\n",
       "    </tr>\n",
       "    <tr>\n",
       "      <th>2</th>\n",
       "      <td>3</td>\n",
       "      <td>Elective</td>\n",
       "    </tr>\n",
       "    <tr>\n",
       "      <th>3</th>\n",
       "      <td>4</td>\n",
       "      <td>Newborn</td>\n",
       "    </tr>\n",
       "    <tr>\n",
       "      <th>4</th>\n",
       "      <td>5</td>\n",
       "      <td>Not Available</td>\n",
       "    </tr>\n",
       "    <tr>\n",
       "      <th>5</th>\n",
       "      <td>6</td>\n",
       "      <td>Type Removed</td>\n",
       "    </tr>\n",
       "    <tr>\n",
       "      <th>6</th>\n",
       "      <td>7</td>\n",
       "      <td>Trauma Center</td>\n",
       "    </tr>\n",
       "    <tr>\n",
       "      <th>7</th>\n",
       "      <td>8</td>\n",
       "      <td>Not Mapped</td>\n",
       "    </tr>\n",
       "  </tbody>\n",
       "</table>\n",
       "</div>"
      ],
      "text/plain": [
       "   admission_type_id admission_type_id_description\n",
       "0                  1                     Emergency\n",
       "1                  2                        Urgent\n",
       "2                  3                      Elective\n",
       "3                  4                       Newborn\n",
       "4                  5                 Not Available\n",
       "5                  6                  Type Removed\n",
       "6                  7                 Trauma Center\n",
       "7                  8                    Not Mapped"
      ]
     },
     "execution_count": 12,
     "metadata": {},
     "output_type": "execute_result"
    }
   ],
   "source": [
    "ids_admit_type_id_mapping"
   ]
  },
  {
   "cell_type": "code",
   "execution_count": 13,
   "id": "c13662e2-3659-43c7-8195-8cd10b560811",
   "metadata": {
    "tags": []
   },
   "outputs": [
    {
     "data": {
      "text/plain": [
       "(101766, 50)"
      ]
     },
     "execution_count": 13,
     "metadata": {},
     "output_type": "execute_result"
    }
   ],
   "source": [
    "raw_data.shape"
   ]
  },
  {
   "cell_type": "markdown",
   "id": "dbe62355-355e-426f-9efa-4c59297f9830",
   "metadata": {
    "tags": []
   },
   "source": [
    "<h3> Merging Dataframes to get Admission_type_id </h3>"
   ]
  },
  {
   "cell_type": "code",
   "execution_count": 14,
   "id": "38d576ec-edc4-4297-a96c-c4d8995b1c55",
   "metadata": {
    "tags": []
   },
   "outputs": [],
   "source": [
    "data = pd.merge(raw_data, ids_admit_type_id_mapping,\n",
    "                how='left', on='admission_type_id')"
   ]
  },
  {
   "cell_type": "code",
   "execution_count": 15,
   "id": "468118f3-bbf4-4ebc-a86c-22ad14956da7",
   "metadata": {
    "tags": []
   },
   "outputs": [
    {
     "data": {
      "text/plain": [
       "(101766, 51)"
      ]
     },
     "execution_count": 15,
     "metadata": {},
     "output_type": "execute_result"
    }
   ],
   "source": [
    "data.shape"
   ]
  },
  {
   "cell_type": "code",
   "execution_count": 16,
   "id": "c8292c77-0e26-4f65-b2f7-2f1685911161",
   "metadata": {
    "tags": []
   },
   "outputs": [
    {
     "data": {
      "text/html": [
       "<div>\n",
       "<style scoped>\n",
       "    .dataframe tbody tr th:only-of-type {\n",
       "        vertical-align: middle;\n",
       "    }\n",
       "\n",
       "    .dataframe tbody tr th {\n",
       "        vertical-align: top;\n",
       "    }\n",
       "\n",
       "    .dataframe thead th {\n",
       "        text-align: right;\n",
       "    }\n",
       "</style>\n",
       "<table border=\"1\" class=\"dataframe\">\n",
       "  <thead>\n",
       "    <tr style=\"text-align: right;\">\n",
       "      <th></th>\n",
       "      <th>encounter_id</th>\n",
       "      <th>patient_nbr</th>\n",
       "      <th>race</th>\n",
       "      <th>gender</th>\n",
       "      <th>age</th>\n",
       "      <th>weight</th>\n",
       "      <th>admission_type_id</th>\n",
       "      <th>discharge_disposition_id</th>\n",
       "      <th>admission_source_id</th>\n",
       "      <th>time_in_hospital</th>\n",
       "      <th>payer_code</th>\n",
       "      <th>medical_specialty</th>\n",
       "      <th>num_lab_procedures</th>\n",
       "      <th>num_procedures</th>\n",
       "      <th>num_medications</th>\n",
       "      <th>number_outpatient</th>\n",
       "      <th>number_emergency</th>\n",
       "      <th>number_inpatient</th>\n",
       "      <th>diag_1</th>\n",
       "      <th>diag_2</th>\n",
       "      <th>diag_3</th>\n",
       "      <th>number_diagnoses</th>\n",
       "      <th>max_glu_serum</th>\n",
       "      <th>A1Cresult</th>\n",
       "      <th>metformin</th>\n",
       "      <th>repaglinide</th>\n",
       "      <th>nateglinide</th>\n",
       "      <th>chlorpropamide</th>\n",
       "      <th>glimepiride</th>\n",
       "      <th>acetohexamide</th>\n",
       "      <th>glipizide</th>\n",
       "      <th>glyburide</th>\n",
       "      <th>tolbutamide</th>\n",
       "      <th>pioglitazone</th>\n",
       "      <th>rosiglitazone</th>\n",
       "      <th>acarbose</th>\n",
       "      <th>miglitol</th>\n",
       "      <th>troglitazone</th>\n",
       "      <th>tolazamide</th>\n",
       "      <th>examide</th>\n",
       "      <th>citoglipton</th>\n",
       "      <th>insulin</th>\n",
       "      <th>glyburide-metformin</th>\n",
       "      <th>glipizide-metformin</th>\n",
       "      <th>glimepiride-pioglitazone</th>\n",
       "      <th>metformin-rosiglitazone</th>\n",
       "      <th>metformin-pioglitazone</th>\n",
       "      <th>change</th>\n",
       "      <th>diabetesMed</th>\n",
       "      <th>readmitted</th>\n",
       "      <th>admission_type_id_description</th>\n",
       "    </tr>\n",
       "  </thead>\n",
       "  <tbody>\n",
       "    <tr>\n",
       "      <th>0</th>\n",
       "      <td>2278392</td>\n",
       "      <td>8222157</td>\n",
       "      <td>Caucasian</td>\n",
       "      <td>Female</td>\n",
       "      <td>[0-10)</td>\n",
       "      <td>?</td>\n",
       "      <td>6</td>\n",
       "      <td>25</td>\n",
       "      <td>1</td>\n",
       "      <td>1</td>\n",
       "      <td>?</td>\n",
       "      <td>Pediatrics-Endocrinology</td>\n",
       "      <td>41</td>\n",
       "      <td>0</td>\n",
       "      <td>1</td>\n",
       "      <td>0</td>\n",
       "      <td>0</td>\n",
       "      <td>0</td>\n",
       "      <td>250.83</td>\n",
       "      <td>?</td>\n",
       "      <td>?</td>\n",
       "      <td>1</td>\n",
       "      <td>None</td>\n",
       "      <td>None</td>\n",
       "      <td>No</td>\n",
       "      <td>No</td>\n",
       "      <td>No</td>\n",
       "      <td>No</td>\n",
       "      <td>No</td>\n",
       "      <td>No</td>\n",
       "      <td>No</td>\n",
       "      <td>No</td>\n",
       "      <td>No</td>\n",
       "      <td>No</td>\n",
       "      <td>No</td>\n",
       "      <td>No</td>\n",
       "      <td>No</td>\n",
       "      <td>No</td>\n",
       "      <td>No</td>\n",
       "      <td>No</td>\n",
       "      <td>No</td>\n",
       "      <td>No</td>\n",
       "      <td>No</td>\n",
       "      <td>No</td>\n",
       "      <td>No</td>\n",
       "      <td>No</td>\n",
       "      <td>No</td>\n",
       "      <td>No</td>\n",
       "      <td>No</td>\n",
       "      <td>NO</td>\n",
       "      <td>Type Removed</td>\n",
       "    </tr>\n",
       "    <tr>\n",
       "      <th>1</th>\n",
       "      <td>149190</td>\n",
       "      <td>55629189</td>\n",
       "      <td>Caucasian</td>\n",
       "      <td>Female</td>\n",
       "      <td>[10-20)</td>\n",
       "      <td>?</td>\n",
       "      <td>1</td>\n",
       "      <td>1</td>\n",
       "      <td>7</td>\n",
       "      <td>3</td>\n",
       "      <td>?</td>\n",
       "      <td>?</td>\n",
       "      <td>59</td>\n",
       "      <td>0</td>\n",
       "      <td>18</td>\n",
       "      <td>0</td>\n",
       "      <td>0</td>\n",
       "      <td>0</td>\n",
       "      <td>276</td>\n",
       "      <td>250.01</td>\n",
       "      <td>255</td>\n",
       "      <td>9</td>\n",
       "      <td>None</td>\n",
       "      <td>None</td>\n",
       "      <td>No</td>\n",
       "      <td>No</td>\n",
       "      <td>No</td>\n",
       "      <td>No</td>\n",
       "      <td>No</td>\n",
       "      <td>No</td>\n",
       "      <td>No</td>\n",
       "      <td>No</td>\n",
       "      <td>No</td>\n",
       "      <td>No</td>\n",
       "      <td>No</td>\n",
       "      <td>No</td>\n",
       "      <td>No</td>\n",
       "      <td>No</td>\n",
       "      <td>No</td>\n",
       "      <td>No</td>\n",
       "      <td>No</td>\n",
       "      <td>Up</td>\n",
       "      <td>No</td>\n",
       "      <td>No</td>\n",
       "      <td>No</td>\n",
       "      <td>No</td>\n",
       "      <td>No</td>\n",
       "      <td>Ch</td>\n",
       "      <td>Yes</td>\n",
       "      <td>&gt;30</td>\n",
       "      <td>Emergency</td>\n",
       "    </tr>\n",
       "    <tr>\n",
       "      <th>2</th>\n",
       "      <td>64410</td>\n",
       "      <td>86047875</td>\n",
       "      <td>AfricanAmerican</td>\n",
       "      <td>Female</td>\n",
       "      <td>[20-30)</td>\n",
       "      <td>?</td>\n",
       "      <td>1</td>\n",
       "      <td>1</td>\n",
       "      <td>7</td>\n",
       "      <td>2</td>\n",
       "      <td>?</td>\n",
       "      <td>?</td>\n",
       "      <td>11</td>\n",
       "      <td>5</td>\n",
       "      <td>13</td>\n",
       "      <td>2</td>\n",
       "      <td>0</td>\n",
       "      <td>1</td>\n",
       "      <td>648</td>\n",
       "      <td>250</td>\n",
       "      <td>V27</td>\n",
       "      <td>6</td>\n",
       "      <td>None</td>\n",
       "      <td>None</td>\n",
       "      <td>No</td>\n",
       "      <td>No</td>\n",
       "      <td>No</td>\n",
       "      <td>No</td>\n",
       "      <td>No</td>\n",
       "      <td>No</td>\n",
       "      <td>Steady</td>\n",
       "      <td>No</td>\n",
       "      <td>No</td>\n",
       "      <td>No</td>\n",
       "      <td>No</td>\n",
       "      <td>No</td>\n",
       "      <td>No</td>\n",
       "      <td>No</td>\n",
       "      <td>No</td>\n",
       "      <td>No</td>\n",
       "      <td>No</td>\n",
       "      <td>No</td>\n",
       "      <td>No</td>\n",
       "      <td>No</td>\n",
       "      <td>No</td>\n",
       "      <td>No</td>\n",
       "      <td>No</td>\n",
       "      <td>No</td>\n",
       "      <td>Yes</td>\n",
       "      <td>NO</td>\n",
       "      <td>Emergency</td>\n",
       "    </tr>\n",
       "    <tr>\n",
       "      <th>3</th>\n",
       "      <td>500364</td>\n",
       "      <td>82442376</td>\n",
       "      <td>Caucasian</td>\n",
       "      <td>Male</td>\n",
       "      <td>[30-40)</td>\n",
       "      <td>?</td>\n",
       "      <td>1</td>\n",
       "      <td>1</td>\n",
       "      <td>7</td>\n",
       "      <td>2</td>\n",
       "      <td>?</td>\n",
       "      <td>?</td>\n",
       "      <td>44</td>\n",
       "      <td>1</td>\n",
       "      <td>16</td>\n",
       "      <td>0</td>\n",
       "      <td>0</td>\n",
       "      <td>0</td>\n",
       "      <td>8</td>\n",
       "      <td>250.43</td>\n",
       "      <td>403</td>\n",
       "      <td>7</td>\n",
       "      <td>None</td>\n",
       "      <td>None</td>\n",
       "      <td>No</td>\n",
       "      <td>No</td>\n",
       "      <td>No</td>\n",
       "      <td>No</td>\n",
       "      <td>No</td>\n",
       "      <td>No</td>\n",
       "      <td>No</td>\n",
       "      <td>No</td>\n",
       "      <td>No</td>\n",
       "      <td>No</td>\n",
       "      <td>No</td>\n",
       "      <td>No</td>\n",
       "      <td>No</td>\n",
       "      <td>No</td>\n",
       "      <td>No</td>\n",
       "      <td>No</td>\n",
       "      <td>No</td>\n",
       "      <td>Up</td>\n",
       "      <td>No</td>\n",
       "      <td>No</td>\n",
       "      <td>No</td>\n",
       "      <td>No</td>\n",
       "      <td>No</td>\n",
       "      <td>Ch</td>\n",
       "      <td>Yes</td>\n",
       "      <td>NO</td>\n",
       "      <td>Emergency</td>\n",
       "    </tr>\n",
       "    <tr>\n",
       "      <th>4</th>\n",
       "      <td>16680</td>\n",
       "      <td>42519267</td>\n",
       "      <td>Caucasian</td>\n",
       "      <td>Male</td>\n",
       "      <td>[40-50)</td>\n",
       "      <td>?</td>\n",
       "      <td>1</td>\n",
       "      <td>1</td>\n",
       "      <td>7</td>\n",
       "      <td>1</td>\n",
       "      <td>?</td>\n",
       "      <td>?</td>\n",
       "      <td>51</td>\n",
       "      <td>0</td>\n",
       "      <td>8</td>\n",
       "      <td>0</td>\n",
       "      <td>0</td>\n",
       "      <td>0</td>\n",
       "      <td>197</td>\n",
       "      <td>157</td>\n",
       "      <td>250</td>\n",
       "      <td>5</td>\n",
       "      <td>None</td>\n",
       "      <td>None</td>\n",
       "      <td>No</td>\n",
       "      <td>No</td>\n",
       "      <td>No</td>\n",
       "      <td>No</td>\n",
       "      <td>No</td>\n",
       "      <td>No</td>\n",
       "      <td>Steady</td>\n",
       "      <td>No</td>\n",
       "      <td>No</td>\n",
       "      <td>No</td>\n",
       "      <td>No</td>\n",
       "      <td>No</td>\n",
       "      <td>No</td>\n",
       "      <td>No</td>\n",
       "      <td>No</td>\n",
       "      <td>No</td>\n",
       "      <td>No</td>\n",
       "      <td>Steady</td>\n",
       "      <td>No</td>\n",
       "      <td>No</td>\n",
       "      <td>No</td>\n",
       "      <td>No</td>\n",
       "      <td>No</td>\n",
       "      <td>Ch</td>\n",
       "      <td>Yes</td>\n",
       "      <td>NO</td>\n",
       "      <td>Emergency</td>\n",
       "    </tr>\n",
       "  </tbody>\n",
       "</table>\n",
       "</div>"
      ],
      "text/plain": [
       "   encounter_id  patient_nbr             race  gender      age weight  \\\n",
       "0       2278392      8222157        Caucasian  Female   [0-10)      ?   \n",
       "1        149190     55629189        Caucasian  Female  [10-20)      ?   \n",
       "2         64410     86047875  AfricanAmerican  Female  [20-30)      ?   \n",
       "3        500364     82442376        Caucasian    Male  [30-40)      ?   \n",
       "4         16680     42519267        Caucasian    Male  [40-50)      ?   \n",
       "\n",
       "   admission_type_id  discharge_disposition_id  admission_source_id  \\\n",
       "0                  6                        25                    1   \n",
       "1                  1                         1                    7   \n",
       "2                  1                         1                    7   \n",
       "3                  1                         1                    7   \n",
       "4                  1                         1                    7   \n",
       "\n",
       "   time_in_hospital payer_code         medical_specialty  num_lab_procedures  \\\n",
       "0                 1          ?  Pediatrics-Endocrinology                  41   \n",
       "1                 3          ?                         ?                  59   \n",
       "2                 2          ?                         ?                  11   \n",
       "3                 2          ?                         ?                  44   \n",
       "4                 1          ?                         ?                  51   \n",
       "\n",
       "   num_procedures  num_medications  number_outpatient  number_emergency  \\\n",
       "0               0                1                  0                 0   \n",
       "1               0               18                  0                 0   \n",
       "2               5               13                  2                 0   \n",
       "3               1               16                  0                 0   \n",
       "4               0                8                  0                 0   \n",
       "\n",
       "   number_inpatient  diag_1  diag_2 diag_3  number_diagnoses max_glu_serum  \\\n",
       "0                 0  250.83       ?      ?                 1          None   \n",
       "1                 0     276  250.01    255                 9          None   \n",
       "2                 1     648     250    V27                 6          None   \n",
       "3                 0       8  250.43    403                 7          None   \n",
       "4                 0     197     157    250                 5          None   \n",
       "\n",
       "  A1Cresult metformin repaglinide nateglinide chlorpropamide glimepiride  \\\n",
       "0      None        No          No          No             No          No   \n",
       "1      None        No          No          No             No          No   \n",
       "2      None        No          No          No             No          No   \n",
       "3      None        No          No          No             No          No   \n",
       "4      None        No          No          No             No          No   \n",
       "\n",
       "  acetohexamide glipizide glyburide tolbutamide pioglitazone rosiglitazone  \\\n",
       "0            No        No        No          No           No            No   \n",
       "1            No        No        No          No           No            No   \n",
       "2            No    Steady        No          No           No            No   \n",
       "3            No        No        No          No           No            No   \n",
       "4            No    Steady        No          No           No            No   \n",
       "\n",
       "  acarbose miglitol troglitazone tolazamide examide citoglipton insulin  \\\n",
       "0       No       No           No         No      No          No      No   \n",
       "1       No       No           No         No      No          No      Up   \n",
       "2       No       No           No         No      No          No      No   \n",
       "3       No       No           No         No      No          No      Up   \n",
       "4       No       No           No         No      No          No  Steady   \n",
       "\n",
       "  glyburide-metformin glipizide-metformin glimepiride-pioglitazone  \\\n",
       "0                  No                  No                       No   \n",
       "1                  No                  No                       No   \n",
       "2                  No                  No                       No   \n",
       "3                  No                  No                       No   \n",
       "4                  No                  No                       No   \n",
       "\n",
       "  metformin-rosiglitazone metformin-pioglitazone change diabetesMed  \\\n",
       "0                      No                     No     No          No   \n",
       "1                      No                     No     Ch         Yes   \n",
       "2                      No                     No     No         Yes   \n",
       "3                      No                     No     Ch         Yes   \n",
       "4                      No                     No     Ch         Yes   \n",
       "\n",
       "  readmitted admission_type_id_description  \n",
       "0         NO                  Type Removed  \n",
       "1        >30                     Emergency  \n",
       "2         NO                     Emergency  \n",
       "3         NO                     Emergency  \n",
       "4         NO                     Emergency  "
      ]
     },
     "execution_count": 16,
     "metadata": {},
     "output_type": "execute_result"
    }
   ],
   "source": [
    "data.head()"
   ]
  },
  {
   "cell_type": "markdown",
   "id": "13571318-957e-42ee-b78f-9cdf54e34c5d",
   "metadata": {},
   "source": [
    "<h3> Getting Admission_source_id_mapping </h3>"
   ]
  },
  {
   "cell_type": "code",
   "execution_count": 17,
   "id": "df402c69-2ba6-484d-81bc-2358f0899784",
   "metadata": {
    "tags": []
   },
   "outputs": [],
   "source": [
    "ids_admission_source_id_mapping = pd.read_csv(\n",
    "    \"IDS_mapping.csv\", nrows=25, skiprows=42)"
   ]
  },
  {
   "cell_type": "code",
   "execution_count": 18,
   "id": "8ccbb332-9846-446b-904b-6c04a280ac09",
   "metadata": {
    "tags": []
   },
   "outputs": [
    {
     "data": {
      "text/html": [
       "<div>\n",
       "<style scoped>\n",
       "    .dataframe tbody tr th:only-of-type {\n",
       "        vertical-align: middle;\n",
       "    }\n",
       "\n",
       "    .dataframe tbody tr th {\n",
       "        vertical-align: top;\n",
       "    }\n",
       "\n",
       "    .dataframe thead th {\n",
       "        text-align: right;\n",
       "    }\n",
       "</style>\n",
       "<table border=\"1\" class=\"dataframe\">\n",
       "  <thead>\n",
       "    <tr style=\"text-align: right;\">\n",
       "      <th></th>\n",
       "      <th>admission_source_id</th>\n",
       "      <th>description</th>\n",
       "    </tr>\n",
       "  </thead>\n",
       "  <tbody>\n",
       "    <tr>\n",
       "      <th>0</th>\n",
       "      <td>1</td>\n",
       "      <td>Physician Referral</td>\n",
       "    </tr>\n",
       "    <tr>\n",
       "      <th>1</th>\n",
       "      <td>2</td>\n",
       "      <td>Clinic Referral</td>\n",
       "    </tr>\n",
       "    <tr>\n",
       "      <th>2</th>\n",
       "      <td>3</td>\n",
       "      <td>HMO Referral</td>\n",
       "    </tr>\n",
       "    <tr>\n",
       "      <th>3</th>\n",
       "      <td>4</td>\n",
       "      <td>Transfer from a hospital</td>\n",
       "    </tr>\n",
       "    <tr>\n",
       "      <th>4</th>\n",
       "      <td>5</td>\n",
       "      <td>Transfer from a Skilled Nursing Facility (SNF)</td>\n",
       "    </tr>\n",
       "    <tr>\n",
       "      <th>5</th>\n",
       "      <td>6</td>\n",
       "      <td>Transfer from another health care facility</td>\n",
       "    </tr>\n",
       "    <tr>\n",
       "      <th>6</th>\n",
       "      <td>7</td>\n",
       "      <td>Emergency Room</td>\n",
       "    </tr>\n",
       "    <tr>\n",
       "      <th>7</th>\n",
       "      <td>8</td>\n",
       "      <td>Court/Law Enforcement</td>\n",
       "    </tr>\n",
       "    <tr>\n",
       "      <th>8</th>\n",
       "      <td>9</td>\n",
       "      <td>Not Available</td>\n",
       "    </tr>\n",
       "    <tr>\n",
       "      <th>9</th>\n",
       "      <td>10</td>\n",
       "      <td>Transfer from critial access hospital</td>\n",
       "    </tr>\n",
       "    <tr>\n",
       "      <th>10</th>\n",
       "      <td>11</td>\n",
       "      <td>Normal Delivery</td>\n",
       "    </tr>\n",
       "    <tr>\n",
       "      <th>11</th>\n",
       "      <td>12</td>\n",
       "      <td>Premature Delivery</td>\n",
       "    </tr>\n",
       "    <tr>\n",
       "      <th>12</th>\n",
       "      <td>13</td>\n",
       "      <td>Sick Baby</td>\n",
       "    </tr>\n",
       "    <tr>\n",
       "      <th>13</th>\n",
       "      <td>14</td>\n",
       "      <td>Extramural Birth</td>\n",
       "    </tr>\n",
       "    <tr>\n",
       "      <th>14</th>\n",
       "      <td>15</td>\n",
       "      <td>Not Available</td>\n",
       "    </tr>\n",
       "    <tr>\n",
       "      <th>15</th>\n",
       "      <td>17</td>\n",
       "      <td>NaN</td>\n",
       "    </tr>\n",
       "    <tr>\n",
       "      <th>16</th>\n",
       "      <td>18</td>\n",
       "      <td>Transfer From Another Home Health Agency</td>\n",
       "    </tr>\n",
       "    <tr>\n",
       "      <th>17</th>\n",
       "      <td>19</td>\n",
       "      <td>Readmission to Same Home Health Agency</td>\n",
       "    </tr>\n",
       "    <tr>\n",
       "      <th>18</th>\n",
       "      <td>20</td>\n",
       "      <td>Not Mapped</td>\n",
       "    </tr>\n",
       "    <tr>\n",
       "      <th>19</th>\n",
       "      <td>21</td>\n",
       "      <td>Unknown/Invalid</td>\n",
       "    </tr>\n",
       "    <tr>\n",
       "      <th>20</th>\n",
       "      <td>22</td>\n",
       "      <td>Transfer from hospital inpt/same fac reslt in...</td>\n",
       "    </tr>\n",
       "    <tr>\n",
       "      <th>21</th>\n",
       "      <td>23</td>\n",
       "      <td>Born inside this hospital</td>\n",
       "    </tr>\n",
       "    <tr>\n",
       "      <th>22</th>\n",
       "      <td>24</td>\n",
       "      <td>Born outside this hospital</td>\n",
       "    </tr>\n",
       "    <tr>\n",
       "      <th>23</th>\n",
       "      <td>25</td>\n",
       "      <td>Transfer from Ambulatory Surgery Center</td>\n",
       "    </tr>\n",
       "    <tr>\n",
       "      <th>24</th>\n",
       "      <td>26</td>\n",
       "      <td>Transfer from Hospice</td>\n",
       "    </tr>\n",
       "  </tbody>\n",
       "</table>\n",
       "</div>"
      ],
      "text/plain": [
       "    admission_source_id                                        description\n",
       "0                     1                                 Physician Referral\n",
       "1                     2                                    Clinic Referral\n",
       "2                     3                                       HMO Referral\n",
       "3                     4                           Transfer from a hospital\n",
       "4                     5     Transfer from a Skilled Nursing Facility (SNF)\n",
       "5                     6         Transfer from another health care facility\n",
       "6                     7                                     Emergency Room\n",
       "7                     8                              Court/Law Enforcement\n",
       "8                     9                                      Not Available\n",
       "9                    10              Transfer from critial access hospital\n",
       "10                   11                                    Normal Delivery\n",
       "11                   12                                 Premature Delivery\n",
       "12                   13                                          Sick Baby\n",
       "13                   14                                   Extramural Birth\n",
       "14                   15                                      Not Available\n",
       "15                   17                                                NaN\n",
       "16                   18           Transfer From Another Home Health Agency\n",
       "17                   19             Readmission to Same Home Health Agency\n",
       "18                   20                                         Not Mapped\n",
       "19                   21                                    Unknown/Invalid\n",
       "20                   22   Transfer from hospital inpt/same fac reslt in...\n",
       "21                   23                          Born inside this hospital\n",
       "22                   24                         Born outside this hospital\n",
       "23                   25            Transfer from Ambulatory Surgery Center\n",
       "24                   26                              Transfer from Hospice"
      ]
     },
     "execution_count": 18,
     "metadata": {},
     "output_type": "execute_result"
    }
   ],
   "source": [
    "ids_admission_source_id_mapping"
   ]
  },
  {
   "cell_type": "code",
   "execution_count": 19,
   "id": "a4f7f276-d85a-4a2e-96ba-e52d78fd3ac9",
   "metadata": {
    "tags": []
   },
   "outputs": [],
   "source": [
    "ids_admission_source_id_mapping.rename(\n",
    "    columns={'description': 'admission_source_id_description'}, inplace=True)"
   ]
  },
  {
   "cell_type": "code",
   "execution_count": 20,
   "id": "2c90cd33-3a11-4402-bec8-f9e9613ea749",
   "metadata": {
    "tags": []
   },
   "outputs": [],
   "source": [
    "ids_admission_source_id_mapping['admission_source_id_description'].replace(\n",
    "    np.NaN, \"Source Removed\", inplace=True)"
   ]
  },
  {
   "cell_type": "code",
   "execution_count": 21,
   "id": "a3ed7ba9-4009-4948-ab96-e3f0c5f87ad8",
   "metadata": {
    "tags": []
   },
   "outputs": [
    {
     "data": {
      "text/html": [
       "<div>\n",
       "<style scoped>\n",
       "    .dataframe tbody tr th:only-of-type {\n",
       "        vertical-align: middle;\n",
       "    }\n",
       "\n",
       "    .dataframe tbody tr th {\n",
       "        vertical-align: top;\n",
       "    }\n",
       "\n",
       "    .dataframe thead th {\n",
       "        text-align: right;\n",
       "    }\n",
       "</style>\n",
       "<table border=\"1\" class=\"dataframe\">\n",
       "  <thead>\n",
       "    <tr style=\"text-align: right;\">\n",
       "      <th></th>\n",
       "      <th>admission_source_id</th>\n",
       "      <th>admission_source_id_description</th>\n",
       "    </tr>\n",
       "  </thead>\n",
       "  <tbody>\n",
       "    <tr>\n",
       "      <th>0</th>\n",
       "      <td>1</td>\n",
       "      <td>Physician Referral</td>\n",
       "    </tr>\n",
       "    <tr>\n",
       "      <th>1</th>\n",
       "      <td>2</td>\n",
       "      <td>Clinic Referral</td>\n",
       "    </tr>\n",
       "    <tr>\n",
       "      <th>2</th>\n",
       "      <td>3</td>\n",
       "      <td>HMO Referral</td>\n",
       "    </tr>\n",
       "    <tr>\n",
       "      <th>3</th>\n",
       "      <td>4</td>\n",
       "      <td>Transfer from a hospital</td>\n",
       "    </tr>\n",
       "    <tr>\n",
       "      <th>4</th>\n",
       "      <td>5</td>\n",
       "      <td>Transfer from a Skilled Nursing Facility (SNF)</td>\n",
       "    </tr>\n",
       "    <tr>\n",
       "      <th>5</th>\n",
       "      <td>6</td>\n",
       "      <td>Transfer from another health care facility</td>\n",
       "    </tr>\n",
       "    <tr>\n",
       "      <th>6</th>\n",
       "      <td>7</td>\n",
       "      <td>Emergency Room</td>\n",
       "    </tr>\n",
       "    <tr>\n",
       "      <th>7</th>\n",
       "      <td>8</td>\n",
       "      <td>Court/Law Enforcement</td>\n",
       "    </tr>\n",
       "    <tr>\n",
       "      <th>8</th>\n",
       "      <td>9</td>\n",
       "      <td>Not Available</td>\n",
       "    </tr>\n",
       "    <tr>\n",
       "      <th>9</th>\n",
       "      <td>10</td>\n",
       "      <td>Transfer from critial access hospital</td>\n",
       "    </tr>\n",
       "    <tr>\n",
       "      <th>10</th>\n",
       "      <td>11</td>\n",
       "      <td>Normal Delivery</td>\n",
       "    </tr>\n",
       "    <tr>\n",
       "      <th>11</th>\n",
       "      <td>12</td>\n",
       "      <td>Premature Delivery</td>\n",
       "    </tr>\n",
       "    <tr>\n",
       "      <th>12</th>\n",
       "      <td>13</td>\n",
       "      <td>Sick Baby</td>\n",
       "    </tr>\n",
       "    <tr>\n",
       "      <th>13</th>\n",
       "      <td>14</td>\n",
       "      <td>Extramural Birth</td>\n",
       "    </tr>\n",
       "    <tr>\n",
       "      <th>14</th>\n",
       "      <td>15</td>\n",
       "      <td>Not Available</td>\n",
       "    </tr>\n",
       "    <tr>\n",
       "      <th>15</th>\n",
       "      <td>17</td>\n",
       "      <td>Source Removed</td>\n",
       "    </tr>\n",
       "    <tr>\n",
       "      <th>16</th>\n",
       "      <td>18</td>\n",
       "      <td>Transfer From Another Home Health Agency</td>\n",
       "    </tr>\n",
       "    <tr>\n",
       "      <th>17</th>\n",
       "      <td>19</td>\n",
       "      <td>Readmission to Same Home Health Agency</td>\n",
       "    </tr>\n",
       "    <tr>\n",
       "      <th>18</th>\n",
       "      <td>20</td>\n",
       "      <td>Not Mapped</td>\n",
       "    </tr>\n",
       "    <tr>\n",
       "      <th>19</th>\n",
       "      <td>21</td>\n",
       "      <td>Unknown/Invalid</td>\n",
       "    </tr>\n",
       "    <tr>\n",
       "      <th>20</th>\n",
       "      <td>22</td>\n",
       "      <td>Transfer from hospital inpt/same fac reslt in...</td>\n",
       "    </tr>\n",
       "    <tr>\n",
       "      <th>21</th>\n",
       "      <td>23</td>\n",
       "      <td>Born inside this hospital</td>\n",
       "    </tr>\n",
       "    <tr>\n",
       "      <th>22</th>\n",
       "      <td>24</td>\n",
       "      <td>Born outside this hospital</td>\n",
       "    </tr>\n",
       "    <tr>\n",
       "      <th>23</th>\n",
       "      <td>25</td>\n",
       "      <td>Transfer from Ambulatory Surgery Center</td>\n",
       "    </tr>\n",
       "    <tr>\n",
       "      <th>24</th>\n",
       "      <td>26</td>\n",
       "      <td>Transfer from Hospice</td>\n",
       "    </tr>\n",
       "  </tbody>\n",
       "</table>\n",
       "</div>"
      ],
      "text/plain": [
       "    admission_source_id                    admission_source_id_description\n",
       "0                     1                                 Physician Referral\n",
       "1                     2                                    Clinic Referral\n",
       "2                     3                                       HMO Referral\n",
       "3                     4                           Transfer from a hospital\n",
       "4                     5     Transfer from a Skilled Nursing Facility (SNF)\n",
       "5                     6         Transfer from another health care facility\n",
       "6                     7                                     Emergency Room\n",
       "7                     8                              Court/Law Enforcement\n",
       "8                     9                                      Not Available\n",
       "9                    10              Transfer from critial access hospital\n",
       "10                   11                                    Normal Delivery\n",
       "11                   12                                 Premature Delivery\n",
       "12                   13                                          Sick Baby\n",
       "13                   14                                   Extramural Birth\n",
       "14                   15                                      Not Available\n",
       "15                   17                                     Source Removed\n",
       "16                   18           Transfer From Another Home Health Agency\n",
       "17                   19             Readmission to Same Home Health Agency\n",
       "18                   20                                         Not Mapped\n",
       "19                   21                                    Unknown/Invalid\n",
       "20                   22   Transfer from hospital inpt/same fac reslt in...\n",
       "21                   23                          Born inside this hospital\n",
       "22                   24                         Born outside this hospital\n",
       "23                   25            Transfer from Ambulatory Surgery Center\n",
       "24                   26                              Transfer from Hospice"
      ]
     },
     "execution_count": 21,
     "metadata": {},
     "output_type": "execute_result"
    }
   ],
   "source": [
    "ids_admission_source_id_mapping"
   ]
  },
  {
   "cell_type": "markdown",
   "id": "82449d37-e528-4acd-880d-2ff99d6c4a81",
   "metadata": {},
   "source": [
    "<h3> Merging Dataframes to get Admission_source_id </h3>"
   ]
  },
  {
   "cell_type": "code",
   "execution_count": 22,
   "id": "d59e2a06-7b87-4b15-9812-e90c33aba354",
   "metadata": {},
   "outputs": [],
   "source": [
    "data_df = pd.merge(data, ids_admission_source_id_mapping,\n",
    "                   how='left', on='admission_source_id')"
   ]
  },
  {
   "cell_type": "code",
   "execution_count": 23,
   "id": "9fe2619d-1342-4310-9fd6-062fb5898588",
   "metadata": {},
   "outputs": [
    {
     "data": {
      "text/plain": [
       "(101766, 52)"
      ]
     },
     "execution_count": 23,
     "metadata": {},
     "output_type": "execute_result"
    }
   ],
   "source": [
    "data_df.shape"
   ]
  },
  {
   "cell_type": "code",
   "execution_count": 24,
   "id": "bb77e18d-fb56-46a6-8916-e462a38846fa",
   "metadata": {},
   "outputs": [
    {
     "data": {
      "text/html": [
       "<div>\n",
       "<style scoped>\n",
       "    .dataframe tbody tr th:only-of-type {\n",
       "        vertical-align: middle;\n",
       "    }\n",
       "\n",
       "    .dataframe tbody tr th {\n",
       "        vertical-align: top;\n",
       "    }\n",
       "\n",
       "    .dataframe thead th {\n",
       "        text-align: right;\n",
       "    }\n",
       "</style>\n",
       "<table border=\"1\" class=\"dataframe\">\n",
       "  <thead>\n",
       "    <tr style=\"text-align: right;\">\n",
       "      <th></th>\n",
       "      <th>encounter_id</th>\n",
       "      <th>patient_nbr</th>\n",
       "      <th>race</th>\n",
       "      <th>gender</th>\n",
       "      <th>age</th>\n",
       "      <th>weight</th>\n",
       "      <th>admission_type_id</th>\n",
       "      <th>discharge_disposition_id</th>\n",
       "      <th>admission_source_id</th>\n",
       "      <th>time_in_hospital</th>\n",
       "      <th>payer_code</th>\n",
       "      <th>medical_specialty</th>\n",
       "      <th>num_lab_procedures</th>\n",
       "      <th>num_procedures</th>\n",
       "      <th>num_medications</th>\n",
       "      <th>number_outpatient</th>\n",
       "      <th>number_emergency</th>\n",
       "      <th>number_inpatient</th>\n",
       "      <th>diag_1</th>\n",
       "      <th>diag_2</th>\n",
       "      <th>diag_3</th>\n",
       "      <th>number_diagnoses</th>\n",
       "      <th>max_glu_serum</th>\n",
       "      <th>A1Cresult</th>\n",
       "      <th>metformin</th>\n",
       "      <th>repaglinide</th>\n",
       "      <th>nateglinide</th>\n",
       "      <th>chlorpropamide</th>\n",
       "      <th>glimepiride</th>\n",
       "      <th>acetohexamide</th>\n",
       "      <th>glipizide</th>\n",
       "      <th>glyburide</th>\n",
       "      <th>tolbutamide</th>\n",
       "      <th>pioglitazone</th>\n",
       "      <th>rosiglitazone</th>\n",
       "      <th>acarbose</th>\n",
       "      <th>miglitol</th>\n",
       "      <th>troglitazone</th>\n",
       "      <th>tolazamide</th>\n",
       "      <th>examide</th>\n",
       "      <th>citoglipton</th>\n",
       "      <th>insulin</th>\n",
       "      <th>glyburide-metformin</th>\n",
       "      <th>glipizide-metformin</th>\n",
       "      <th>glimepiride-pioglitazone</th>\n",
       "      <th>metformin-rosiglitazone</th>\n",
       "      <th>metformin-pioglitazone</th>\n",
       "      <th>change</th>\n",
       "      <th>diabetesMed</th>\n",
       "      <th>readmitted</th>\n",
       "      <th>admission_type_id_description</th>\n",
       "      <th>admission_source_id_description</th>\n",
       "    </tr>\n",
       "  </thead>\n",
       "  <tbody>\n",
       "    <tr>\n",
       "      <th>0</th>\n",
       "      <td>2278392</td>\n",
       "      <td>8222157</td>\n",
       "      <td>Caucasian</td>\n",
       "      <td>Female</td>\n",
       "      <td>[0-10)</td>\n",
       "      <td>?</td>\n",
       "      <td>6</td>\n",
       "      <td>25</td>\n",
       "      <td>1</td>\n",
       "      <td>1</td>\n",
       "      <td>?</td>\n",
       "      <td>Pediatrics-Endocrinology</td>\n",
       "      <td>41</td>\n",
       "      <td>0</td>\n",
       "      <td>1</td>\n",
       "      <td>0</td>\n",
       "      <td>0</td>\n",
       "      <td>0</td>\n",
       "      <td>250.83</td>\n",
       "      <td>?</td>\n",
       "      <td>?</td>\n",
       "      <td>1</td>\n",
       "      <td>None</td>\n",
       "      <td>None</td>\n",
       "      <td>No</td>\n",
       "      <td>No</td>\n",
       "      <td>No</td>\n",
       "      <td>No</td>\n",
       "      <td>No</td>\n",
       "      <td>No</td>\n",
       "      <td>No</td>\n",
       "      <td>No</td>\n",
       "      <td>No</td>\n",
       "      <td>No</td>\n",
       "      <td>No</td>\n",
       "      <td>No</td>\n",
       "      <td>No</td>\n",
       "      <td>No</td>\n",
       "      <td>No</td>\n",
       "      <td>No</td>\n",
       "      <td>No</td>\n",
       "      <td>No</td>\n",
       "      <td>No</td>\n",
       "      <td>No</td>\n",
       "      <td>No</td>\n",
       "      <td>No</td>\n",
       "      <td>No</td>\n",
       "      <td>No</td>\n",
       "      <td>No</td>\n",
       "      <td>NO</td>\n",
       "      <td>Type Removed</td>\n",
       "      <td>Physician Referral</td>\n",
       "    </tr>\n",
       "    <tr>\n",
       "      <th>1</th>\n",
       "      <td>149190</td>\n",
       "      <td>55629189</td>\n",
       "      <td>Caucasian</td>\n",
       "      <td>Female</td>\n",
       "      <td>[10-20)</td>\n",
       "      <td>?</td>\n",
       "      <td>1</td>\n",
       "      <td>1</td>\n",
       "      <td>7</td>\n",
       "      <td>3</td>\n",
       "      <td>?</td>\n",
       "      <td>?</td>\n",
       "      <td>59</td>\n",
       "      <td>0</td>\n",
       "      <td>18</td>\n",
       "      <td>0</td>\n",
       "      <td>0</td>\n",
       "      <td>0</td>\n",
       "      <td>276</td>\n",
       "      <td>250.01</td>\n",
       "      <td>255</td>\n",
       "      <td>9</td>\n",
       "      <td>None</td>\n",
       "      <td>None</td>\n",
       "      <td>No</td>\n",
       "      <td>No</td>\n",
       "      <td>No</td>\n",
       "      <td>No</td>\n",
       "      <td>No</td>\n",
       "      <td>No</td>\n",
       "      <td>No</td>\n",
       "      <td>No</td>\n",
       "      <td>No</td>\n",
       "      <td>No</td>\n",
       "      <td>No</td>\n",
       "      <td>No</td>\n",
       "      <td>No</td>\n",
       "      <td>No</td>\n",
       "      <td>No</td>\n",
       "      <td>No</td>\n",
       "      <td>No</td>\n",
       "      <td>Up</td>\n",
       "      <td>No</td>\n",
       "      <td>No</td>\n",
       "      <td>No</td>\n",
       "      <td>No</td>\n",
       "      <td>No</td>\n",
       "      <td>Ch</td>\n",
       "      <td>Yes</td>\n",
       "      <td>&gt;30</td>\n",
       "      <td>Emergency</td>\n",
       "      <td>Emergency Room</td>\n",
       "    </tr>\n",
       "    <tr>\n",
       "      <th>2</th>\n",
       "      <td>64410</td>\n",
       "      <td>86047875</td>\n",
       "      <td>AfricanAmerican</td>\n",
       "      <td>Female</td>\n",
       "      <td>[20-30)</td>\n",
       "      <td>?</td>\n",
       "      <td>1</td>\n",
       "      <td>1</td>\n",
       "      <td>7</td>\n",
       "      <td>2</td>\n",
       "      <td>?</td>\n",
       "      <td>?</td>\n",
       "      <td>11</td>\n",
       "      <td>5</td>\n",
       "      <td>13</td>\n",
       "      <td>2</td>\n",
       "      <td>0</td>\n",
       "      <td>1</td>\n",
       "      <td>648</td>\n",
       "      <td>250</td>\n",
       "      <td>V27</td>\n",
       "      <td>6</td>\n",
       "      <td>None</td>\n",
       "      <td>None</td>\n",
       "      <td>No</td>\n",
       "      <td>No</td>\n",
       "      <td>No</td>\n",
       "      <td>No</td>\n",
       "      <td>No</td>\n",
       "      <td>No</td>\n",
       "      <td>Steady</td>\n",
       "      <td>No</td>\n",
       "      <td>No</td>\n",
       "      <td>No</td>\n",
       "      <td>No</td>\n",
       "      <td>No</td>\n",
       "      <td>No</td>\n",
       "      <td>No</td>\n",
       "      <td>No</td>\n",
       "      <td>No</td>\n",
       "      <td>No</td>\n",
       "      <td>No</td>\n",
       "      <td>No</td>\n",
       "      <td>No</td>\n",
       "      <td>No</td>\n",
       "      <td>No</td>\n",
       "      <td>No</td>\n",
       "      <td>No</td>\n",
       "      <td>Yes</td>\n",
       "      <td>NO</td>\n",
       "      <td>Emergency</td>\n",
       "      <td>Emergency Room</td>\n",
       "    </tr>\n",
       "    <tr>\n",
       "      <th>3</th>\n",
       "      <td>500364</td>\n",
       "      <td>82442376</td>\n",
       "      <td>Caucasian</td>\n",
       "      <td>Male</td>\n",
       "      <td>[30-40)</td>\n",
       "      <td>?</td>\n",
       "      <td>1</td>\n",
       "      <td>1</td>\n",
       "      <td>7</td>\n",
       "      <td>2</td>\n",
       "      <td>?</td>\n",
       "      <td>?</td>\n",
       "      <td>44</td>\n",
       "      <td>1</td>\n",
       "      <td>16</td>\n",
       "      <td>0</td>\n",
       "      <td>0</td>\n",
       "      <td>0</td>\n",
       "      <td>8</td>\n",
       "      <td>250.43</td>\n",
       "      <td>403</td>\n",
       "      <td>7</td>\n",
       "      <td>None</td>\n",
       "      <td>None</td>\n",
       "      <td>No</td>\n",
       "      <td>No</td>\n",
       "      <td>No</td>\n",
       "      <td>No</td>\n",
       "      <td>No</td>\n",
       "      <td>No</td>\n",
       "      <td>No</td>\n",
       "      <td>No</td>\n",
       "      <td>No</td>\n",
       "      <td>No</td>\n",
       "      <td>No</td>\n",
       "      <td>No</td>\n",
       "      <td>No</td>\n",
       "      <td>No</td>\n",
       "      <td>No</td>\n",
       "      <td>No</td>\n",
       "      <td>No</td>\n",
       "      <td>Up</td>\n",
       "      <td>No</td>\n",
       "      <td>No</td>\n",
       "      <td>No</td>\n",
       "      <td>No</td>\n",
       "      <td>No</td>\n",
       "      <td>Ch</td>\n",
       "      <td>Yes</td>\n",
       "      <td>NO</td>\n",
       "      <td>Emergency</td>\n",
       "      <td>Emergency Room</td>\n",
       "    </tr>\n",
       "    <tr>\n",
       "      <th>4</th>\n",
       "      <td>16680</td>\n",
       "      <td>42519267</td>\n",
       "      <td>Caucasian</td>\n",
       "      <td>Male</td>\n",
       "      <td>[40-50)</td>\n",
       "      <td>?</td>\n",
       "      <td>1</td>\n",
       "      <td>1</td>\n",
       "      <td>7</td>\n",
       "      <td>1</td>\n",
       "      <td>?</td>\n",
       "      <td>?</td>\n",
       "      <td>51</td>\n",
       "      <td>0</td>\n",
       "      <td>8</td>\n",
       "      <td>0</td>\n",
       "      <td>0</td>\n",
       "      <td>0</td>\n",
       "      <td>197</td>\n",
       "      <td>157</td>\n",
       "      <td>250</td>\n",
       "      <td>5</td>\n",
       "      <td>None</td>\n",
       "      <td>None</td>\n",
       "      <td>No</td>\n",
       "      <td>No</td>\n",
       "      <td>No</td>\n",
       "      <td>No</td>\n",
       "      <td>No</td>\n",
       "      <td>No</td>\n",
       "      <td>Steady</td>\n",
       "      <td>No</td>\n",
       "      <td>No</td>\n",
       "      <td>No</td>\n",
       "      <td>No</td>\n",
       "      <td>No</td>\n",
       "      <td>No</td>\n",
       "      <td>No</td>\n",
       "      <td>No</td>\n",
       "      <td>No</td>\n",
       "      <td>No</td>\n",
       "      <td>Steady</td>\n",
       "      <td>No</td>\n",
       "      <td>No</td>\n",
       "      <td>No</td>\n",
       "      <td>No</td>\n",
       "      <td>No</td>\n",
       "      <td>Ch</td>\n",
       "      <td>Yes</td>\n",
       "      <td>NO</td>\n",
       "      <td>Emergency</td>\n",
       "      <td>Emergency Room</td>\n",
       "    </tr>\n",
       "  </tbody>\n",
       "</table>\n",
       "</div>"
      ],
      "text/plain": [
       "   encounter_id  patient_nbr             race  gender      age weight  \\\n",
       "0       2278392      8222157        Caucasian  Female   [0-10)      ?   \n",
       "1        149190     55629189        Caucasian  Female  [10-20)      ?   \n",
       "2         64410     86047875  AfricanAmerican  Female  [20-30)      ?   \n",
       "3        500364     82442376        Caucasian    Male  [30-40)      ?   \n",
       "4         16680     42519267        Caucasian    Male  [40-50)      ?   \n",
       "\n",
       "   admission_type_id  discharge_disposition_id  admission_source_id  \\\n",
       "0                  6                        25                    1   \n",
       "1                  1                         1                    7   \n",
       "2                  1                         1                    7   \n",
       "3                  1                         1                    7   \n",
       "4                  1                         1                    7   \n",
       "\n",
       "   time_in_hospital payer_code         medical_specialty  num_lab_procedures  \\\n",
       "0                 1          ?  Pediatrics-Endocrinology                  41   \n",
       "1                 3          ?                         ?                  59   \n",
       "2                 2          ?                         ?                  11   \n",
       "3                 2          ?                         ?                  44   \n",
       "4                 1          ?                         ?                  51   \n",
       "\n",
       "   num_procedures  num_medications  number_outpatient  number_emergency  \\\n",
       "0               0                1                  0                 0   \n",
       "1               0               18                  0                 0   \n",
       "2               5               13                  2                 0   \n",
       "3               1               16                  0                 0   \n",
       "4               0                8                  0                 0   \n",
       "\n",
       "   number_inpatient  diag_1  diag_2 diag_3  number_diagnoses max_glu_serum  \\\n",
       "0                 0  250.83       ?      ?                 1          None   \n",
       "1                 0     276  250.01    255                 9          None   \n",
       "2                 1     648     250    V27                 6          None   \n",
       "3                 0       8  250.43    403                 7          None   \n",
       "4                 0     197     157    250                 5          None   \n",
       "\n",
       "  A1Cresult metformin repaglinide nateglinide chlorpropamide glimepiride  \\\n",
       "0      None        No          No          No             No          No   \n",
       "1      None        No          No          No             No          No   \n",
       "2      None        No          No          No             No          No   \n",
       "3      None        No          No          No             No          No   \n",
       "4      None        No          No          No             No          No   \n",
       "\n",
       "  acetohexamide glipizide glyburide tolbutamide pioglitazone rosiglitazone  \\\n",
       "0            No        No        No          No           No            No   \n",
       "1            No        No        No          No           No            No   \n",
       "2            No    Steady        No          No           No            No   \n",
       "3            No        No        No          No           No            No   \n",
       "4            No    Steady        No          No           No            No   \n",
       "\n",
       "  acarbose miglitol troglitazone tolazamide examide citoglipton insulin  \\\n",
       "0       No       No           No         No      No          No      No   \n",
       "1       No       No           No         No      No          No      Up   \n",
       "2       No       No           No         No      No          No      No   \n",
       "3       No       No           No         No      No          No      Up   \n",
       "4       No       No           No         No      No          No  Steady   \n",
       "\n",
       "  glyburide-metformin glipizide-metformin glimepiride-pioglitazone  \\\n",
       "0                  No                  No                       No   \n",
       "1                  No                  No                       No   \n",
       "2                  No                  No                       No   \n",
       "3                  No                  No                       No   \n",
       "4                  No                  No                       No   \n",
       "\n",
       "  metformin-rosiglitazone metformin-pioglitazone change diabetesMed  \\\n",
       "0                      No                     No     No          No   \n",
       "1                      No                     No     Ch         Yes   \n",
       "2                      No                     No     No         Yes   \n",
       "3                      No                     No     Ch         Yes   \n",
       "4                      No                     No     Ch         Yes   \n",
       "\n",
       "  readmitted admission_type_id_description admission_source_id_description  \n",
       "0         NO                  Type Removed              Physician Referral  \n",
       "1        >30                     Emergency                  Emergency Room  \n",
       "2         NO                     Emergency                  Emergency Room  \n",
       "3         NO                     Emergency                  Emergency Room  \n",
       "4         NO                     Emergency                  Emergency Room  "
      ]
     },
     "execution_count": 24,
     "metadata": {},
     "output_type": "execute_result"
    }
   ],
   "source": [
    "data_df.head(5)"
   ]
  },
  {
   "cell_type": "markdown",
   "id": "a08746b2-39be-41df-8662-e6b364d7e31a",
   "metadata": {},
   "source": [
    "<h1> Data Cleaning and Preprocessing </h1>"
   ]
  },
  {
   "cell_type": "code",
   "execution_count": 25,
   "id": "7e2405d5-b29a-4214-8b2b-89dcec2ef786",
   "metadata": {
    "tags": []
   },
   "outputs": [],
   "source": [
    "# Replacing the \"?\" with na's\n",
    "data_df.replace(\"?\", np.NaN, inplace=True)"
   ]
  },
  {
   "cell_type": "markdown",
   "id": "49245688-acbf-4eb6-91c6-2a91d6cedf9c",
   "metadata": {},
   "source": [
    "Checking for nulls again"
   ]
  },
  {
   "cell_type": "code",
   "execution_count": 26,
   "id": "50b799d3-b206-4ef9-b11c-1a94aca5129c",
   "metadata": {},
   "outputs": [
    {
     "data": {
      "text/plain": [
       "encounter_id                           0\n",
       "patient_nbr                            0\n",
       "race                                2273\n",
       "gender                                 0\n",
       "age                                    0\n",
       "weight                             98569\n",
       "admission_type_id                      0\n",
       "discharge_disposition_id               0\n",
       "admission_source_id                    0\n",
       "time_in_hospital                       0\n",
       "payer_code                         40256\n",
       "medical_specialty                  49949\n",
       "num_lab_procedures                     0\n",
       "num_procedures                         0\n",
       "num_medications                        0\n",
       "number_outpatient                      0\n",
       "number_emergency                       0\n",
       "number_inpatient                       0\n",
       "diag_1                                21\n",
       "diag_2                               358\n",
       "diag_3                              1423\n",
       "number_diagnoses                       0\n",
       "max_glu_serum                          0\n",
       "A1Cresult                              0\n",
       "metformin                              0\n",
       "repaglinide                            0\n",
       "nateglinide                            0\n",
       "chlorpropamide                         0\n",
       "glimepiride                            0\n",
       "acetohexamide                          0\n",
       "glipizide                              0\n",
       "glyburide                              0\n",
       "tolbutamide                            0\n",
       "pioglitazone                           0\n",
       "rosiglitazone                          0\n",
       "acarbose                               0\n",
       "miglitol                               0\n",
       "troglitazone                           0\n",
       "tolazamide                             0\n",
       "examide                                0\n",
       "citoglipton                            0\n",
       "insulin                                0\n",
       "glyburide-metformin                    0\n",
       "glipizide-metformin                    0\n",
       "glimepiride-pioglitazone               0\n",
       "metformin-rosiglitazone                0\n",
       "metformin-pioglitazone                 0\n",
       "change                                 0\n",
       "diabetesMed                            0\n",
       "readmitted                             0\n",
       "admission_type_id_description          0\n",
       "admission_source_id_description        0\n",
       "dtype: int64"
      ]
     },
     "execution_count": 26,
     "metadata": {},
     "output_type": "execute_result"
    }
   ],
   "source": [
    "data_df.isna().sum()"
   ]
  },
  {
   "cell_type": "markdown",
   "id": "54760d10-12d8-4ec8-bc6d-735d78273585",
   "metadata": {},
   "source": [
    "As we can see a few of the features like race, weight, payer_code, medical_speciality, diag_1, diag_2 and diag_3 have nulls "
   ]
  },
  {
   "cell_type": "markdown",
   "id": "e1561c7f-4416-44d0-9f8a-2ba57f98479a",
   "metadata": {},
   "source": [
    "We can remove weight and payer_code since they aren't relevant to the outcome and they have too many nulls"
   ]
  },
  {
   "cell_type": "code",
   "execution_count": 27,
   "id": "74b44e4e-8277-4741-890e-91f3d6741a73",
   "metadata": {
    "tags": []
   },
   "outputs": [],
   "source": [
    "data_df.drop(['weight', 'payer_code'], axis=1, inplace=True)"
   ]
  },
  {
   "cell_type": "code",
   "execution_count": 28,
   "id": "ef774c24-dbde-488e-9c5c-4854d7b4d9eb",
   "metadata": {
    "tags": []
   },
   "outputs": [
    {
     "data": {
      "text/plain": [
       "encounter_id                           0\n",
       "patient_nbr                            0\n",
       "race                                2273\n",
       "gender                                 0\n",
       "age                                    0\n",
       "admission_type_id                      0\n",
       "discharge_disposition_id               0\n",
       "admission_source_id                    0\n",
       "time_in_hospital                       0\n",
       "medical_specialty                  49949\n",
       "num_lab_procedures                     0\n",
       "num_procedures                         0\n",
       "num_medications                        0\n",
       "number_outpatient                      0\n",
       "number_emergency                       0\n",
       "number_inpatient                       0\n",
       "diag_1                                21\n",
       "diag_2                               358\n",
       "diag_3                              1423\n",
       "number_diagnoses                       0\n",
       "max_glu_serum                          0\n",
       "A1Cresult                              0\n",
       "metformin                              0\n",
       "repaglinide                            0\n",
       "nateglinide                            0\n",
       "chlorpropamide                         0\n",
       "glimepiride                            0\n",
       "acetohexamide                          0\n",
       "glipizide                              0\n",
       "glyburide                              0\n",
       "tolbutamide                            0\n",
       "pioglitazone                           0\n",
       "rosiglitazone                          0\n",
       "acarbose                               0\n",
       "miglitol                               0\n",
       "troglitazone                           0\n",
       "tolazamide                             0\n",
       "examide                                0\n",
       "citoglipton                            0\n",
       "insulin                                0\n",
       "glyburide-metformin                    0\n",
       "glipizide-metformin                    0\n",
       "glimepiride-pioglitazone               0\n",
       "metformin-rosiglitazone                0\n",
       "metformin-pioglitazone                 0\n",
       "change                                 0\n",
       "diabetesMed                            0\n",
       "readmitted                             0\n",
       "admission_type_id_description          0\n",
       "admission_source_id_description        0\n",
       "dtype: int64"
      ]
     },
     "execution_count": 28,
     "metadata": {},
     "output_type": "execute_result"
    }
   ],
   "source": [
    "data_df.isnull().sum()"
   ]
  },
  {
   "cell_type": "markdown",
   "id": "4a4f4e38-54f7-428f-81dd-97fb94e5e47d",
   "metadata": {},
   "source": [
    "<h1> Feature Engineering </h1>"
   ]
  },
  {
   "cell_type": "code",
   "execution_count": 31,
   "id": "2f6e3fcc-f2bc-4f21-9195-f8eee5e0815b",
   "metadata": {
    "tags": []
   },
   "outputs": [
    {
     "name": "stderr",
     "output_type": "stream",
     "text": [
      "C:\\Users\\tgt55\\AppData\\Local\\Temp\\ipykernel_25984\\2758106875.py:3: FutureWarning: The default value of numeric_only in DataFrame.corr is deprecated. In a future version, it will default to False. Select only valid columns or specify the value of numeric_only to silence this warning.\n",
      "  sns.heatmap(data_df.corr(), annot=True, cmap='coolwarm')\n"
     ]
    },
    {
     "data": {
      "image/png": "[encoded data removed]",
      "text/plain": [
       "<Figure size 1200x800 with 2 Axes>"
      ]
     },
     "metadata": {},
     "output_type": "display_data"
    }
   ],
   "source": [
    "# Create the correlation heatmap\n",
    "plt.figure(figsize=(12, 8))\n",
    "sns.heatmap(data_df.corr(), annot=True, cmap='coolwarm')\n",
    "plt.title(\"Correlation Heatmap\")\n",
    "plt.show();"
   ]
  },
  {
   "cell_type": "markdown",
   "id": "fccae65d-6f27-43e3-98ce-ad6b7c30f7a6",
   "metadata": {},
   "source": [
    "<hr>"
   ]
  },
  {
   "cell_type": "markdown",
   "id": "effb1f4c-e9d8-46e3-85d3-fe9b88367956",
   "metadata": {},
   "source": [
    "<h1> Analytical Questions </h1>"
   ]
  },
  {
   "cell_type": "markdown",
   "id": "7000f422-7a64-468f-aba7-26e971184621",
   "metadata": {},
   "source": [
    "<h2> a. Questions solved using functions you define (such as lambda-map functions): </h2>"
   ]
  },
  {
   "cell_type": "markdown",
   "id": "7430e7d5-2460-48a9-9b66-7e9e74269a0f",
   "metadata": {},
   "source": [
    "<h3> 1. Create a function that calculates the average number of outpatient visits for patients with a specific diagnosis ('diag_1', 'diag_2', or 'diag_3').\n",
    "</h3>"
   ]
  },
  {
   "cell_type": "code",
   "execution_count": 32,
   "id": "6deacfbc-2bde-4720-ab7d-267f063b594f",
   "metadata": {
    "tags": []
   },
   "outputs": [],
   "source": [
    "def average_outpatient_visits_by_diagnosis(data, diagnosis_code):\n",
    "    # Filter the data to include only rows with the specific diagnosis code in any of the 'diag_1', 'diag_2', or 'diag_3' columns\n",
    "    filtered_data = data[(data['diag_1'] == diagnosis_code) | (\n",
    "        data['diag_2'] == diagnosis_code) | (data['diag_3'] == diagnosis_code)]\n",
    "\n",
    "    # Calculate the total number of outpatient visits for patients with the specific diagnosis\n",
    "    total_outpatient_visits = filtered_data['number_outpatient'].sum()\n",
    "\n",
    "    # Calculate the total number of patients with the specific diagnosis\n",
    "    total_patients_with_diagnosis = len(filtered_data)\n",
    "\n",
    "    # Calculate the average number of outpatient visits for patients with the specific diagnosis\n",
    "    average_outpatient_visits = total_outpatient_visits / total_patients_with_diagnosis\n",
    "\n",
    "    return average_outpatient_visits"
   ]
  },
  {
   "cell_type": "code",
   "execution_count": 33,
   "id": "c38f4d3a-b2e4-4837-8d8f-d640016957a1",
   "metadata": {},
   "outputs": [
    {
     "name": "stdout",
     "output_type": "stream",
     "text": [
      "The average number of outpatient visits for patients with diagnosis_code 428 is 0.44\n"
     ]
    }
   ],
   "source": [
    "diag_code = '428'\n",
    "avg_outpatient_visits = average_outpatient_visits_by_diagnosis(\n",
    "    data_df, diag_code)\n",
    "print(\n",
    "    f\"The average number of outpatient visits for patients with diagnosis_code {diag_code} is {avg_outpatient_visits:.2f}\")"
   ]
  },
  {
   "cell_type": "markdown",
   "id": "cf03a9b9-3461-461f-a4cb-f8a7031943cb",
   "metadata": {},
   "source": [
    "<h3>2. Write a function to calculate the average number of outpatients of male and female patients separately</h3>"
   ]
  },
  {
   "cell_type": "code",
   "execution_count": 34,
   "id": "9c9743ac-cd3d-4d51-9a67-46273471490d",
   "metadata": {
    "tags": []
   },
   "outputs": [],
   "source": [
    "def average_age_by_gender(data):\n",
    "\n",
    "    # Group the data by 'gender' and calculate the mean of the 'age' column for each group\n",
    "    grouped_data = round(data.groupby('gender')['number_outpatient'].mean(), 2)\n",
    "\n",
    "    # Convert the grouped data to a dictionary for easy access to average age by gender\n",
    "    average_age_by_gender = grouped_data.to_dict()\n",
    "\n",
    "    return average_age_by_gender"
   ]
  },
  {
   "cell_type": "code",
   "execution_count": 35,
   "id": "30a0e6e7-0da7-4a57-b1a3-2684c8d8d2bb",
   "metadata": {},
   "outputs": [
    {
     "name": "stdout",
     "output_type": "stream",
     "text": [
      "The average number of outpatients of male and females\n",
      "{'Female': 0.38, 'Male': 0.35, 'Unknown/Invalid': 0.0}\n"
     ]
    }
   ],
   "source": [
    "print(\"The average number of outpatients of male and females\")\n",
    "avg_age_by_gender = average_age_by_gender(data_df)\n",
    "print(avg_age_by_gender)"
   ]
  },
  {
   "cell_type": "markdown",
   "id": "52c638ef-a29f-4375-83cc-aa3f08de2856",
   "metadata": {},
   "source": [
    "<h3> 3. Create a function to identify patients who had a specific medication combination, such as 'rosiglitazone' and 'acarbose'.\n",
    "</h3>"
   ]
  },
  {
   "cell_type": "code",
   "execution_count": 36,
   "id": "19e87b48-80de-44e8-a5b3-7ba961c42172",
   "metadata": {
    "tags": []
   },
   "outputs": [],
   "source": [
    "def find_patients_with_medication_combination(data, medication1, medication2):\n",
    "\n",
    "    # Filter the data to include only rows where both medications are present\n",
    "    patients_with_combination = data[(data[medication1] == 'Steady') & (\n",
    "        data[medication2] == 'Steady')]\n",
    "\n",
    "    return patients_with_combination"
   ]
  },
  {
   "cell_type": "code",
   "execution_count": 37,
   "id": "928cdf18-5638-49f4-b9bd-cccfd18f3f15",
   "metadata": {},
   "outputs": [
    {
     "name": "stdout",
     "output_type": "stream",
     "text": [
      "\n",
      "Patients with the specific combination of rosiglitazone and acarbose are:\n",
      "\n"
     ]
    },
    {
     "data": {
      "text/html": [
       "<div>\n",
       "<style scoped>\n",
       "    .dataframe tbody tr th:only-of-type {\n",
       "        vertical-align: middle;\n",
       "    }\n",
       "\n",
       "    .dataframe tbody tr th {\n",
       "        vertical-align: top;\n",
       "    }\n",
       "\n",
       "    .dataframe thead th {\n",
       "        text-align: right;\n",
       "    }\n",
       "</style>\n",
       "<table border=\"1\" class=\"dataframe\">\n",
       "  <thead>\n",
       "    <tr style=\"text-align: right;\">\n",
       "      <th></th>\n",
       "      <th>encounter_id</th>\n",
       "      <th>patient_nbr</th>\n",
       "      <th>race</th>\n",
       "      <th>gender</th>\n",
       "      <th>age</th>\n",
       "      <th>admission_type_id</th>\n",
       "      <th>discharge_disposition_id</th>\n",
       "      <th>admission_source_id</th>\n",
       "      <th>time_in_hospital</th>\n",
       "      <th>medical_specialty</th>\n",
       "      <th>num_lab_procedures</th>\n",
       "      <th>num_procedures</th>\n",
       "      <th>num_medications</th>\n",
       "      <th>number_outpatient</th>\n",
       "      <th>number_emergency</th>\n",
       "      <th>number_inpatient</th>\n",
       "      <th>diag_1</th>\n",
       "      <th>diag_2</th>\n",
       "      <th>diag_3</th>\n",
       "      <th>number_diagnoses</th>\n",
       "      <th>max_glu_serum</th>\n",
       "      <th>A1Cresult</th>\n",
       "      <th>metformin</th>\n",
       "      <th>repaglinide</th>\n",
       "      <th>nateglinide</th>\n",
       "      <th>chlorpropamide</th>\n",
       "      <th>glimepiride</th>\n",
       "      <th>acetohexamide</th>\n",
       "      <th>glipizide</th>\n",
       "      <th>glyburide</th>\n",
       "      <th>tolbutamide</th>\n",
       "      <th>pioglitazone</th>\n",
       "      <th>rosiglitazone</th>\n",
       "      <th>acarbose</th>\n",
       "      <th>miglitol</th>\n",
       "      <th>troglitazone</th>\n",
       "      <th>tolazamide</th>\n",
       "      <th>examide</th>\n",
       "      <th>citoglipton</th>\n",
       "      <th>insulin</th>\n",
       "      <th>glyburide-metformin</th>\n",
       "      <th>glipizide-metformin</th>\n",
       "      <th>glimepiride-pioglitazone</th>\n",
       "      <th>metformin-rosiglitazone</th>\n",
       "      <th>metformin-pioglitazone</th>\n",
       "      <th>change</th>\n",
       "      <th>diabetesMed</th>\n",
       "      <th>readmitted</th>\n",
       "      <th>admission_type_id_description</th>\n",
       "      <th>admission_source_id_description</th>\n",
       "    </tr>\n",
       "  </thead>\n",
       "  <tbody>\n",
       "    <tr>\n",
       "      <th>4921</th>\n",
       "      <td>26722938</td>\n",
       "      <td>97414263</td>\n",
       "      <td>Caucasian</td>\n",
       "      <td>Female</td>\n",
       "      <td>[70-80)</td>\n",
       "      <td>1</td>\n",
       "      <td>1</td>\n",
       "      <td>7</td>\n",
       "      <td>3</td>\n",
       "      <td>Family/GeneralPractice</td>\n",
       "      <td>55</td>\n",
       "      <td>0</td>\n",
       "      <td>16</td>\n",
       "      <td>0</td>\n",
       "      <td>0</td>\n",
       "      <td>0</td>\n",
       "      <td>486</td>\n",
       "      <td>250</td>\n",
       "      <td>729</td>\n",
       "      <td>6</td>\n",
       "      <td>None</td>\n",
       "      <td>&gt;8</td>\n",
       "      <td>Steady</td>\n",
       "      <td>No</td>\n",
       "      <td>No</td>\n",
       "      <td>No</td>\n",
       "      <td>No</td>\n",
       "      <td>No</td>\n",
       "      <td>Steady</td>\n",
       "      <td>No</td>\n",
       "      <td>No</td>\n",
       "      <td>No</td>\n",
       "      <td>Steady</td>\n",
       "      <td>Steady</td>\n",
       "      <td>No</td>\n",
       "      <td>No</td>\n",
       "      <td>No</td>\n",
       "      <td>No</td>\n",
       "      <td>No</td>\n",
       "      <td>Down</td>\n",
       "      <td>No</td>\n",
       "      <td>No</td>\n",
       "      <td>No</td>\n",
       "      <td>No</td>\n",
       "      <td>No</td>\n",
       "      <td>Ch</td>\n",
       "      <td>Yes</td>\n",
       "      <td>&gt;30</td>\n",
       "      <td>Emergency</td>\n",
       "      <td>Emergency Room</td>\n",
       "    </tr>\n",
       "    <tr>\n",
       "      <th>7659</th>\n",
       "      <td>35904786</td>\n",
       "      <td>112309047</td>\n",
       "      <td>Caucasian</td>\n",
       "      <td>Female</td>\n",
       "      <td>[40-50)</td>\n",
       "      <td>3</td>\n",
       "      <td>1</td>\n",
       "      <td>1</td>\n",
       "      <td>4</td>\n",
       "      <td>Surgery-General</td>\n",
       "      <td>31</td>\n",
       "      <td>2</td>\n",
       "      <td>19</td>\n",
       "      <td>0</td>\n",
       "      <td>0</td>\n",
       "      <td>0</td>\n",
       "      <td>552</td>\n",
       "      <td>250</td>\n",
       "      <td>NaN</td>\n",
       "      <td>2</td>\n",
       "      <td>None</td>\n",
       "      <td>None</td>\n",
       "      <td>No</td>\n",
       "      <td>No</td>\n",
       "      <td>No</td>\n",
       "      <td>No</td>\n",
       "      <td>No</td>\n",
       "      <td>No</td>\n",
       "      <td>No</td>\n",
       "      <td>No</td>\n",
       "      <td>No</td>\n",
       "      <td>No</td>\n",
       "      <td>Steady</td>\n",
       "      <td>Steady</td>\n",
       "      <td>No</td>\n",
       "      <td>No</td>\n",
       "      <td>No</td>\n",
       "      <td>No</td>\n",
       "      <td>No</td>\n",
       "      <td>Up</td>\n",
       "      <td>No</td>\n",
       "      <td>No</td>\n",
       "      <td>No</td>\n",
       "      <td>No</td>\n",
       "      <td>No</td>\n",
       "      <td>Ch</td>\n",
       "      <td>Yes</td>\n",
       "      <td>&lt;30</td>\n",
       "      <td>Elective</td>\n",
       "      <td>Physician Referral</td>\n",
       "    </tr>\n",
       "    <tr>\n",
       "      <th>7829</th>\n",
       "      <td>36352068</td>\n",
       "      <td>56482542</td>\n",
       "      <td>Caucasian</td>\n",
       "      <td>Female</td>\n",
       "      <td>[60-70)</td>\n",
       "      <td>2</td>\n",
       "      <td>1</td>\n",
       "      <td>2</td>\n",
       "      <td>1</td>\n",
       "      <td>NaN</td>\n",
       "      <td>44</td>\n",
       "      <td>4</td>\n",
       "      <td>16</td>\n",
       "      <td>1</td>\n",
       "      <td>0</td>\n",
       "      <td>1</td>\n",
       "      <td>440</td>\n",
       "      <td>496</td>\n",
       "      <td>414</td>\n",
       "      <td>7</td>\n",
       "      <td>None</td>\n",
       "      <td>None</td>\n",
       "      <td>No</td>\n",
       "      <td>No</td>\n",
       "      <td>No</td>\n",
       "      <td>No</td>\n",
       "      <td>No</td>\n",
       "      <td>No</td>\n",
       "      <td>No</td>\n",
       "      <td>No</td>\n",
       "      <td>No</td>\n",
       "      <td>No</td>\n",
       "      <td>Steady</td>\n",
       "      <td>Steady</td>\n",
       "      <td>No</td>\n",
       "      <td>No</td>\n",
       "      <td>No</td>\n",
       "      <td>No</td>\n",
       "      <td>No</td>\n",
       "      <td>Steady</td>\n",
       "      <td>No</td>\n",
       "      <td>No</td>\n",
       "      <td>No</td>\n",
       "      <td>No</td>\n",
       "      <td>No</td>\n",
       "      <td>Ch</td>\n",
       "      <td>Yes</td>\n",
       "      <td>NO</td>\n",
       "      <td>Urgent</td>\n",
       "      <td>Clinic Referral</td>\n",
       "    </tr>\n",
       "    <tr>\n",
       "      <th>9657</th>\n",
       "      <td>41767032</td>\n",
       "      <td>8794098</td>\n",
       "      <td>Caucasian</td>\n",
       "      <td>Female</td>\n",
       "      <td>[80-90)</td>\n",
       "      <td>1</td>\n",
       "      <td>18</td>\n",
       "      <td>7</td>\n",
       "      <td>4</td>\n",
       "      <td>NaN</td>\n",
       "      <td>49</td>\n",
       "      <td>0</td>\n",
       "      <td>11</td>\n",
       "      <td>0</td>\n",
       "      <td>0</td>\n",
       "      <td>0</td>\n",
       "      <td>410</td>\n",
       "      <td>425</td>\n",
       "      <td>496</td>\n",
       "      <td>9</td>\n",
       "      <td>None</td>\n",
       "      <td>None</td>\n",
       "      <td>No</td>\n",
       "      <td>No</td>\n",
       "      <td>No</td>\n",
       "      <td>No</td>\n",
       "      <td>No</td>\n",
       "      <td>No</td>\n",
       "      <td>No</td>\n",
       "      <td>Steady</td>\n",
       "      <td>No</td>\n",
       "      <td>No</td>\n",
       "      <td>Steady</td>\n",
       "      <td>Steady</td>\n",
       "      <td>No</td>\n",
       "      <td>No</td>\n",
       "      <td>No</td>\n",
       "      <td>No</td>\n",
       "      <td>No</td>\n",
       "      <td>No</td>\n",
       "      <td>No</td>\n",
       "      <td>No</td>\n",
       "      <td>No</td>\n",
       "      <td>No</td>\n",
       "      <td>No</td>\n",
       "      <td>Ch</td>\n",
       "      <td>Yes</td>\n",
       "      <td>&gt;30</td>\n",
       "      <td>Emergency</td>\n",
       "      <td>Emergency Room</td>\n",
       "    </tr>\n",
       "    <tr>\n",
       "      <th>11858</th>\n",
       "      <td>48767220</td>\n",
       "      <td>4143807</td>\n",
       "      <td>Caucasian</td>\n",
       "      <td>Female</td>\n",
       "      <td>[40-50)</td>\n",
       "      <td>1</td>\n",
       "      <td>18</td>\n",
       "      <td>7</td>\n",
       "      <td>9</td>\n",
       "      <td>NaN</td>\n",
       "      <td>70</td>\n",
       "      <td>0</td>\n",
       "      <td>22</td>\n",
       "      <td>0</td>\n",
       "      <td>0</td>\n",
       "      <td>0</td>\n",
       "      <td>250.93</td>\n",
       "      <td>70</td>\n",
       "      <td>599</td>\n",
       "      <td>8</td>\n",
       "      <td>None</td>\n",
       "      <td>&gt;8</td>\n",
       "      <td>Steady</td>\n",
       "      <td>No</td>\n",
       "      <td>No</td>\n",
       "      <td>No</td>\n",
       "      <td>No</td>\n",
       "      <td>No</td>\n",
       "      <td>No</td>\n",
       "      <td>Steady</td>\n",
       "      <td>No</td>\n",
       "      <td>Steady</td>\n",
       "      <td>Steady</td>\n",
       "      <td>Steady</td>\n",
       "      <td>No</td>\n",
       "      <td>No</td>\n",
       "      <td>No</td>\n",
       "      <td>No</td>\n",
       "      <td>No</td>\n",
       "      <td>No</td>\n",
       "      <td>No</td>\n",
       "      <td>No</td>\n",
       "      <td>No</td>\n",
       "      <td>No</td>\n",
       "      <td>No</td>\n",
       "      <td>Ch</td>\n",
       "      <td>Yes</td>\n",
       "      <td>NO</td>\n",
       "      <td>Emergency</td>\n",
       "      <td>Emergency Room</td>\n",
       "    </tr>\n",
       "  </tbody>\n",
       "</table>\n",
       "</div>"
      ],
      "text/plain": [
       "       encounter_id  patient_nbr       race  gender      age  \\\n",
       "4921       26722938     97414263  Caucasian  Female  [70-80)   \n",
       "7659       35904786    112309047  Caucasian  Female  [40-50)   \n",
       "7829       36352068     56482542  Caucasian  Female  [60-70)   \n",
       "9657       41767032      8794098  Caucasian  Female  [80-90)   \n",
       "11858      48767220      4143807  Caucasian  Female  [40-50)   \n",
       "\n",
       "       admission_type_id  discharge_disposition_id  admission_source_id  \\\n",
       "4921                   1                         1                    7   \n",
       "7659                   3                         1                    1   \n",
       "7829                   2                         1                    2   \n",
       "9657                   1                        18                    7   \n",
       "11858                  1                        18                    7   \n",
       "\n",
       "       time_in_hospital       medical_specialty  num_lab_procedures  \\\n",
       "4921                  3  Family/GeneralPractice                  55   \n",
       "7659                  4         Surgery-General                  31   \n",
       "7829                  1                     NaN                  44   \n",
       "9657                  4                     NaN                  49   \n",
       "11858                 9                     NaN                  70   \n",
       "\n",
       "       num_procedures  num_medications  number_outpatient  number_emergency  \\\n",
       "4921                0               16                  0                 0   \n",
       "7659                2               19                  0                 0   \n",
       "7829                4               16                  1                 0   \n",
       "9657                0               11                  0                 0   \n",
       "11858               0               22                  0                 0   \n",
       "\n",
       "       number_inpatient  diag_1 diag_2 diag_3  number_diagnoses max_glu_serum  \\\n",
       "4921                  0     486    250    729                 6          None   \n",
       "7659                  0     552    250    NaN                 2          None   \n",
       "7829                  1     440    496    414                 7          None   \n",
       "9657                  0     410    425    496                 9          None   \n",
       "11858                 0  250.93     70    599                 8          None   \n",
       "\n",
       "      A1Cresult metformin repaglinide nateglinide chlorpropamide glimepiride  \\\n",
       "4921         >8    Steady          No          No             No          No   \n",
       "7659       None        No          No          No             No          No   \n",
       "7829       None        No          No          No             No          No   \n",
       "9657       None        No          No          No             No          No   \n",
       "11858        >8    Steady          No          No             No          No   \n",
       "\n",
       "      acetohexamide glipizide glyburide tolbutamide pioglitazone  \\\n",
       "4921             No    Steady        No          No           No   \n",
       "7659             No        No        No          No           No   \n",
       "7829             No        No        No          No           No   \n",
       "9657             No        No    Steady          No           No   \n",
       "11858            No        No    Steady          No       Steady   \n",
       "\n",
       "      rosiglitazone acarbose miglitol troglitazone tolazamide examide  \\\n",
       "4921         Steady   Steady       No           No         No      No   \n",
       "7659         Steady   Steady       No           No         No      No   \n",
       "7829         Steady   Steady       No           No         No      No   \n",
       "9657         Steady   Steady       No           No         No      No   \n",
       "11858        Steady   Steady       No           No         No      No   \n",
       "\n",
       "      citoglipton insulin glyburide-metformin glipizide-metformin  \\\n",
       "4921           No    Down                  No                  No   \n",
       "7659           No      Up                  No                  No   \n",
       "7829           No  Steady                  No                  No   \n",
       "9657           No      No                  No                  No   \n",
       "11858          No      No                  No                  No   \n",
       "\n",
       "      glimepiride-pioglitazone metformin-rosiglitazone metformin-pioglitazone  \\\n",
       "4921                        No                      No                     No   \n",
       "7659                        No                      No                     No   \n",
       "7829                        No                      No                     No   \n",
       "9657                        No                      No                     No   \n",
       "11858                       No                      No                     No   \n",
       "\n",
       "      change diabetesMed readmitted admission_type_id_description  \\\n",
       "4921      Ch         Yes        >30                     Emergency   \n",
       "7659      Ch         Yes        <30                      Elective   \n",
       "7829      Ch         Yes         NO                        Urgent   \n",
       "9657      Ch         Yes        >30                     Emergency   \n",
       "11858     Ch         Yes         NO                     Emergency   \n",
       "\n",
       "      admission_source_id_description  \n",
       "4921                   Emergency Room  \n",
       "7659               Physician Referral  \n",
       "7829                  Clinic Referral  \n",
       "9657                   Emergency Room  \n",
       "11858                  Emergency Room  "
      ]
     },
     "execution_count": 37,
     "metadata": {},
     "output_type": "execute_result"
    }
   ],
   "source": [
    "med1 = 'rosiglitazone'\n",
    "med2 = 'acarbose'\n",
    "medication_combination = find_patients_with_medication_combination(\n",
    "    data_df, med1, med2)\n",
    "print(f\"\\nPatients with the specific combination of {med1} and {med2} are:\\n\")\n",
    "medication_combination.head(5)"
   ]
  },
  {
   "cell_type": "markdown",
   "id": "de6ce226-82ff-4916-aaad-54350ceae105",
   "metadata": {
    "tags": []
   },
   "source": [
    "<h3> 4. Design a function to calculate the percentage of patients who were readmitted within 30 days of their previous hospitalization.</h3>"
   ]
  },
  {
   "cell_type": "code",
   "execution_count": 38,
   "id": "6089624f-727f-46b7-96b2-6215c7c0cbd0",
   "metadata": {
    "tags": []
   },
   "outputs": [],
   "source": [
    "def percentage_readmitted_within_30_days(data):\n",
    "\n",
    "    # Filter the data to include only patients who were readmitted within 30 days\n",
    "    readmitted_within_30_days = data[data['readmitted'] == '<30']\n",
    "\n",
    "    # Calculate the total number of patients readmitted within 30 days\n",
    "    total_readmitted_within_30_days = len(readmitted_within_30_days)\n",
    "\n",
    "    # Calculate the total number of patients in the dataset\n",
    "    total_patients = len(data)\n",
    "\n",
    "    # Calculate the percentage of patients readmitted within 30 days\n",
    "    percentage_readmitted = (\n",
    "        total_readmitted_within_30_days / total_patients) * 100\n",
    "\n",
    "    return percentage_readmitted"
   ]
  },
  {
   "cell_type": "code",
   "execution_count": 39,
   "id": "dc7e898e-e453-4dc0-aa95-83840bf7c8f8",
   "metadata": {},
   "outputs": [
    {
     "name": "stdout",
     "output_type": "stream",
     "text": [
      "The percentage of patients who were readmitted within 30 days of their previous hospitalization: 11.16%\n"
     ]
    }
   ],
   "source": [
    "percentage_readmitted = percentage_readmitted_within_30_days(data_df)\n",
    "print(\n",
    "    f\"The percentage of patients who were readmitted within 30 days of their previous hospitalization: {percentage_readmitted:.2f}%\")"
   ]
  },
  {
   "cell_type": "markdown",
   "id": "e9519ae3-a902-4ca8-9e30-f2fa8ea27925",
   "metadata": {},
   "source": [
    "<h3> 5. Create a function that calculates the average number of lab procedures per patient using the 'num_lab_procedures' column.</h3>"
   ]
  },
  {
   "cell_type": "code",
   "execution_count": 40,
   "id": "4a30c8f3-46ae-4805-a81f-b5187df124bd",
   "metadata": {
    "tags": []
   },
   "outputs": [],
   "source": [
    "def average_lab_procedures_per_patient(data):\n",
    "\n",
    "    # Calculate the total number of lab procedures for all patients\n",
    "    total_lab_procedures = data['num_lab_procedures'].sum()\n",
    "\n",
    "    # Calculate the total number of patients\n",
    "    total_patients = len(data)\n",
    "\n",
    "    # Calculate the average number of lab procedures per patient\n",
    "    average_lab_procedures = total_lab_procedures / total_patients\n",
    "\n",
    "    return average_lab_procedures"
   ]
  },
  {
   "cell_type": "code",
   "execution_count": 41,
   "id": "ceb942d6-ce59-451e-88c9-6d9be7e17e32",
   "metadata": {},
   "outputs": [
    {
     "name": "stdout",
     "output_type": "stream",
     "text": [
      "Average number of lab procedures per patient is 43.10\n"
     ]
    }
   ],
   "source": [
    "avg_lab_procedures = average_lab_procedures_per_patient(data_df)\n",
    "print(\n",
    "    f\"Average number of lab procedures per patient is {avg_lab_procedures:.2f}\")"
   ]
  },
  {
   "cell_type": "markdown",
   "id": "7ecd433c-b060-4a45-8de4-80b38b9f4cc1",
   "metadata": {},
   "source": [
    "<hr>"
   ]
  },
  {
   "cell_type": "markdown",
   "id": "52cc4ac0-36d1-49e1-8b96-9c0a3e954dbd",
   "metadata": {},
   "source": [
    "<h2> b. Questions utilizing Pandas and NumPy</h2>"
   ]
  },
  {
   "cell_type": "markdown",
   "id": "be4e7110-9e74-4a09-a13d-33b4e99f59af",
   "metadata": {},
   "source": [
    "<h3> 6. Find the median length of stay for diabetic patients. </h3>"
   ]
  },
  {
   "cell_type": "code",
   "execution_count": 42,
   "id": "44bb38a8-8c18-4dfd-86c5-5aa0306e04e8",
   "metadata": {
    "tags": []
   },
   "outputs": [
    {
     "name": "stdout",
     "output_type": "stream",
     "text": [
      "The median length of stay for diabetic patients are 4.0 days\n"
     ]
    }
   ],
   "source": [
    "print(\n",
    "    f\"The median length of stay for diabetic patients are {np.median(data_df['time_in_hospital'])} days\")"
   ]
  },
  {
   "cell_type": "markdown",
   "id": "15fba18c-dd7b-4b57-a28d-e81b3e2a2a55",
   "metadata": {},
   "source": [
    "<h3> 7. Calculate the percentage of male and female patients in the dataset. </h3>"
   ]
  },
  {
   "cell_type": "code",
   "execution_count": 43,
   "id": "42b84990-71b7-4f9b-bf41-4184ba743add",
   "metadata": {
    "tags": []
   },
   "outputs": [],
   "source": [
    "gender_counts = data_df['gender'].value_counts()"
   ]
  },
  {
   "cell_type": "code",
   "execution_count": 44,
   "id": "80fd596b-10be-4944-a3ab-2fd988b397b6",
   "metadata": {
    "tags": []
   },
   "outputs": [],
   "source": [
    "total_patients = len(data_df)"
   ]
  },
  {
   "cell_type": "code",
   "execution_count": 45,
   "id": "90b7656a-0497-486c-943c-fd1b8c2989a0",
   "metadata": {
    "tags": []
   },
   "outputs": [],
   "source": [
    "male_patients = (gender_counts['Male'] / total_patients) * 100"
   ]
  },
  {
   "cell_type": "code",
   "execution_count": 46,
   "id": "e2fbeb23-5adb-4ab6-9583-e9dd91610eea",
   "metadata": {
    "tags": []
   },
   "outputs": [],
   "source": [
    "female_patients = (gender_counts['Female'] / total_patients) * 100"
   ]
  },
  {
   "cell_type": "code",
   "execution_count": 47,
   "id": "01c6dada-a214-47d7-b046-12b547860226",
   "metadata": {
    "tags": []
   },
   "outputs": [
    {
     "name": "stdout",
     "output_type": "stream",
     "text": [
      "The percentage of Male patients:  46.24 %\n",
      "The percentage of Female patients:  53.76 %\n"
     ]
    }
   ],
   "source": [
    "print(f\"The percentage of Male patients: {male_patients: .2f} %\")\n",
    "print(f\"The percentage of Female patients: {female_patients: .2f} %\")"
   ]
  },
  {
   "cell_type": "markdown",
   "id": "a6ce7fd9-05fa-4eeb-b08c-fe0d5acff6da",
   "metadata": {},
   "source": [
    "<h3> 8. Determine the most common race/ethnicity among diabetic patients </h3>"
   ]
  },
  {
   "cell_type": "code",
   "execution_count": 48,
   "id": "8c18130a-59f8-4bef-9858-3a0a8bac1109",
   "metadata": {
    "tags": []
   },
   "outputs": [
    {
     "name": "stdout",
     "output_type": "stream",
     "text": [
      "The most common race/enthnicity among diabetic patients is Caucasian with the number of patients being : 76099\n"
     ]
    }
   ],
   "source": [
    "print(f\"The most common race/enthnicity among diabetic patients is {data_df['race'].value_counts().idxmax()} with \\\n",
    "the number of patients being : {data_df['race'].value_counts()[0]}\")"
   ]
  },
  {
   "cell_type": "markdown",
   "id": "202c7521-8c1d-4576-ba38-a182c668cf79",
   "metadata": {},
   "source": [
    "<h3> 9. Create a new column that categorizes patients based on the number of medications they are taking.</h3>\n",
    "Create categories like 'Low', 'Medium', and 'High' based on the 'num_medications' column."
   ]
  },
  {
   "cell_type": "code",
   "execution_count": 49,
   "id": "743477f9-acc5-4343-ac2a-c503f9c8f467",
   "metadata": {
    "tags": []
   },
   "outputs": [
    {
     "name": "stdout",
     "output_type": "stream",
     "text": [
      "The minimum number of medications a patient has: 1\n"
     ]
    }
   ],
   "source": [
    "min_meds = data_df['num_medications'].min()\n",
    "print(\"The minimum number of medications a patient has:\", min_meds)"
   ]
  },
  {
   "cell_type": "code",
   "execution_count": 50,
   "id": "0e4a0752-6cc4-4254-bb7e-b098687b6c18",
   "metadata": {
    "tags": []
   },
   "outputs": [
    {
     "name": "stdout",
     "output_type": "stream",
     "text": [
      "The maximum number of medications a patient has: 81\n"
     ]
    }
   ],
   "source": [
    "max_meds = data_df['num_medications'].max()\n",
    "print(\"The maximum number of medications a patient has:\", max_meds)"
   ]
  },
  {
   "cell_type": "code",
   "execution_count": 51,
   "id": "156e4d47-1bfd-4883-ad83-11e6f1492d2e",
   "metadata": {
    "tags": []
   },
   "outputs": [
    {
     "name": "stdout",
     "output_type": "stream",
     "text": [
      "The range of number of medications a patient could have is between 1 and 81\n"
     ]
    }
   ],
   "source": [
    "print(\n",
    "    f\"The range of number of medications a patient could have is between {min_meds} and {max_meds}\")"
   ]
  },
  {
   "cell_type": "code",
   "execution_count": 52,
   "id": "7171467f-67cb-4f98-a9c1-56267b67e61a",
   "metadata": {
    "tags": []
   },
   "outputs": [],
   "source": [
    "num_bins = 3\n",
    "# Calculate bin width\n",
    "bin_width = (max_meds - min_meds) // 3\n",
    "\n",
    "# Create the bins based on the minimum, maximum, and width of each bin\n",
    "bins = [min_meds-1 + i * bin_width for i in range(num_bins)]\n",
    "bins.append(max_meds)"
   ]
  },
  {
   "cell_type": "code",
   "execution_count": 53,
   "id": "f9cb039f-057a-493e-a40f-bac220b345f3",
   "metadata": {
    "tags": []
   },
   "outputs": [
    {
     "data": {
      "text/plain": [
       "[0, 26, 52, 81]"
      ]
     },
     "execution_count": 53,
     "metadata": {},
     "output_type": "execute_result"
    }
   ],
   "source": [
    "bins"
   ]
  },
  {
   "cell_type": "code",
   "execution_count": 54,
   "id": "ab93c924-a427-422d-917e-f9125c8d15a4",
   "metadata": {
    "tags": []
   },
   "outputs": [],
   "source": [
    "# Create the column and assign the labels to the bins\n",
    "data_df['medication_category'] = pd.cut(\n",
    "    x=data_df['num_medications'], bins=bins, labels=['low', 'medium', 'high'])"
   ]
  },
  {
   "cell_type": "code",
   "execution_count": 55,
   "id": "86605c9d-7c15-4e1f-9b8e-b64d5e99d943",
   "metadata": {
    "tags": []
   },
   "outputs": [
    {
     "data": {
      "text/html": [
       "<div>\n",
       "<style scoped>\n",
       "    .dataframe tbody tr th:only-of-type {\n",
       "        vertical-align: middle;\n",
       "    }\n",
       "\n",
       "    .dataframe tbody tr th {\n",
       "        vertical-align: top;\n",
       "    }\n",
       "\n",
       "    .dataframe thead th {\n",
       "        text-align: right;\n",
       "    }\n",
       "</style>\n",
       "<table border=\"1\" class=\"dataframe\">\n",
       "  <thead>\n",
       "    <tr style=\"text-align: right;\">\n",
       "      <th></th>\n",
       "      <th>num_medications</th>\n",
       "      <th>medication_category</th>\n",
       "    </tr>\n",
       "  </thead>\n",
       "  <tbody>\n",
       "    <tr>\n",
       "      <th>0</th>\n",
       "      <td>1</td>\n",
       "      <td>low</td>\n",
       "    </tr>\n",
       "    <tr>\n",
       "      <th>1</th>\n",
       "      <td>18</td>\n",
       "      <td>low</td>\n",
       "    </tr>\n",
       "    <tr>\n",
       "      <th>2</th>\n",
       "      <td>13</td>\n",
       "      <td>low</td>\n",
       "    </tr>\n",
       "    <tr>\n",
       "      <th>3</th>\n",
       "      <td>16</td>\n",
       "      <td>low</td>\n",
       "    </tr>\n",
       "    <tr>\n",
       "      <th>4</th>\n",
       "      <td>8</td>\n",
       "      <td>low</td>\n",
       "    </tr>\n",
       "    <tr>\n",
       "      <th>...</th>\n",
       "      <td>...</td>\n",
       "      <td>...</td>\n",
       "    </tr>\n",
       "    <tr>\n",
       "      <th>101761</th>\n",
       "      <td>16</td>\n",
       "      <td>low</td>\n",
       "    </tr>\n",
       "    <tr>\n",
       "      <th>101762</th>\n",
       "      <td>18</td>\n",
       "      <td>low</td>\n",
       "    </tr>\n",
       "    <tr>\n",
       "      <th>101763</th>\n",
       "      <td>9</td>\n",
       "      <td>low</td>\n",
       "    </tr>\n",
       "    <tr>\n",
       "      <th>101764</th>\n",
       "      <td>21</td>\n",
       "      <td>low</td>\n",
       "    </tr>\n",
       "    <tr>\n",
       "      <th>101765</th>\n",
       "      <td>3</td>\n",
       "      <td>low</td>\n",
       "    </tr>\n",
       "  </tbody>\n",
       "</table>\n",
       "<p>101766 rows × 2 columns</p>\n",
       "</div>"
      ],
      "text/plain": [
       "        num_medications medication_category\n",
       "0                     1                 low\n",
       "1                    18                 low\n",
       "2                    13                 low\n",
       "3                    16                 low\n",
       "4                     8                 low\n",
       "...                 ...                 ...\n",
       "101761               16                 low\n",
       "101762               18                 low\n",
       "101763                9                 low\n",
       "101764               21                 low\n",
       "101765                3                 low\n",
       "\n",
       "[101766 rows x 2 columns]"
      ]
     },
     "execution_count": 55,
     "metadata": {},
     "output_type": "execute_result"
    }
   ],
   "source": [
    "data_df[['num_medications', 'medication_category']]"
   ]
  },
  {
   "cell_type": "markdown",
   "id": "cf3f4d51-3fc2-429e-ad4f-54808e2e9bd2",
   "metadata": {},
   "source": [
    "<h3> 10. Find the average number of lab procedures for patients who underwent surgery and those who didn't</h3>"
   ]
  },
  {
   "cell_type": "code",
   "execution_count": 56,
   "id": "ba74b98b-30ea-4be4-8899-eb4c73f57dcf",
   "metadata": {
    "tags": []
   },
   "outputs": [],
   "source": [
    "# Patients who had surgeries done\n",
    "patients_with_surgeries = data_df[data_df['num_procedures'] > 0]"
   ]
  },
  {
   "cell_type": "code",
   "execution_count": 57,
   "id": "a4d9819e-9d6a-4313-b86b-4b2736215fa9",
   "metadata": {
    "tags": []
   },
   "outputs": [],
   "source": [
    "# Patients who didn't get any surgeries\n",
    "patients_without_surgeries = data_df[data_df['num_procedures'] == 0]"
   ]
  },
  {
   "cell_type": "code",
   "execution_count": 58,
   "id": "e9eebc8a-be1e-4189-9065-412a88de6f7c",
   "metadata": {
    "tags": []
   },
   "outputs": [
    {
     "name": "stdout",
     "output_type": "stream",
     "text": [
      "The average number of lab procedures for patients who underwent surgery is 43.24\n"
     ]
    }
   ],
   "source": [
    "print(f\"The average number of lab procedures for patients who underwent surgery is \\\n",
    "{patients_with_surgeries['num_lab_procedures'].mean():.2f}\")"
   ]
  },
  {
   "cell_type": "code",
   "execution_count": 59,
   "id": "d0b153ee-ca4f-47f9-a734-ec09eb3a9ded",
   "metadata": {
    "tags": []
   },
   "outputs": [
    {
     "name": "stdout",
     "output_type": "stream",
     "text": [
      "The average number of lab procedures for patients who didn't have surgery is 42.93\n"
     ]
    }
   ],
   "source": [
    "print(f\"The average number of lab procedures for patients who didn't have surgery is \\\n",
    "{patients_without_surgeries['num_lab_procedures'].mean():.2f}\")"
   ]
  },
  {
   "cell_type": "markdown",
   "id": "84335678-6b1c-4c0a-af7a-24a8efae6839",
   "metadata": {},
   "source": [
    "<hr> "
   ]
  },
  {
   "cell_type": "markdown",
   "id": "f617002b-d475-463d-99bf-e968e276e42a",
   "metadata": {},
   "source": [
    "<h2> c. Questions with visualizations using Matplotlib and Seaborn </h2>"
   ]
  },
  {
   "cell_type": "markdown",
   "id": "339c2eb9-dafd-4ded-9dc7-6954bbe3b56d",
   "metadata": {},
   "source": [
    "<h3> 11. Visualize the distribution of age groups using a pie chart </h3>"
   ]
  },
  {
   "cell_type": "code",
   "execution_count": 60,
   "id": "ded81178-6bab-4036-ae32-090aa4183229",
   "metadata": {
    "tags": []
   },
   "outputs": [
    {
     "data": {
      "text/plain": [
       "[70-80)     26068\n",
       "[60-70)     22483\n",
       "[50-60)     17256\n",
       "[80-90)     17197\n",
       "[40-50)      9685\n",
       "[30-40)      3775\n",
       "[90-100)     2793\n",
       "[20-30)      1657\n",
       "[10-20)       691\n",
       "[0-10)        161\n",
       "Name: age, dtype: int64"
      ]
     },
     "execution_count": 60,
     "metadata": {},
     "output_type": "execute_result"
    }
   ],
   "source": [
    "age_dist = data_df['age'].value_counts()\n",
    "age_dist"
   ]
  },
  {
   "cell_type": "code",
   "execution_count": 61,
   "id": "595ea2ae-5f01-466e-9314-4440e16188cf",
   "metadata": {
    "tags": []
   },
   "outputs": [
    {
     "data": {
      "image/png": "[encoded data removed]",
      "text/plain": [
       "<Figure size 800x600 with 1 Axes>"
      ]
     },
     "metadata": {},
     "output_type": "display_data"
    }
   ],
   "source": [
    "fig, ax = plt.subplots(figsize=(8, 6))\n",
    "ax.pie(age_dist, labels=age_dist.index, autopct='%1.1f%%')\n",
    "ax.set_title(\"Age distribution of Diabetic Patients\")\n",
    "plt.tight_layout();"
   ]
  },
  {
   "cell_type": "markdown",
   "id": "e56bd737-fd9f-47b6-90bb-6899abca7322",
   "metadata": {
    "tags": []
   },
   "source": [
    "<h3> 12. Create a bar plot to show the count of patients in each age group</h3>"
   ]
  },
  {
   "cell_type": "code",
   "execution_count": 62,
   "id": "af374632-ccb3-43ed-92d9-15ef9b280a52",
   "metadata": {
    "tags": []
   },
   "outputs": [
    {
     "data": {
      "image/png": "[encoded data removed]",
      "text/plain": [
       "<Figure size 640x480 with 1 Axes>"
      ]
     },
     "metadata": {},
     "output_type": "display_data"
    }
   ],
   "source": [
    "age_dist.plot(kind='bar')\n",
    "plt.xlabel(\"Age groups\")\n",
    "plt.title(\"Number of Diabetic patients in each age group\");"
   ]
  },
  {
   "cell_type": "markdown",
   "id": "3a3a1fd2-7776-4d5c-85f6-d1e52b4876ad",
   "metadata": {},
   "source": [
    "<h3>13. Compare the time spent in the hospital for different admission types </h3>"
   ]
  },
  {
   "cell_type": "code",
   "execution_count": 63,
   "id": "3a0466ab-5c6a-4b2c-a7e8-a0e0c1a21ff7",
   "metadata": {
    "tags": []
   },
   "outputs": [
    {
     "data": {
      "image/png": "[encoded data removed]",
      "text/plain": [
       "<Figure size 640x480 with 1 Axes>"
      ]
     },
     "metadata": {},
     "output_type": "display_data"
    }
   ],
   "source": [
    "sns.boxplot(data_df, x='admission_type_id_description', y='time_in_hospital')\n",
    "plt.title(\"Time spent in hospital for different Admission types\")\n",
    "plt.ylabel(\"Time in hospital (Days)\")\n",
    "plt.xlabel(\"\")\n",
    "plt.xticks(rotation=45);"
   ]
  },
  {
   "cell_type": "markdown",
   "id": "4be02676-1add-4f3c-9836-4eedb64db9c5",
   "metadata": {},
   "source": [
    "<h3> 14. Compare the length of stay for different races</h3>"
   ]
  },
  {
   "cell_type": "code",
   "execution_count": 64,
   "id": "b649160a-b97b-4a23-93c7-2f7ae246d23c",
   "metadata": {
    "tags": []
   },
   "outputs": [
    {
     "data": {
      "image/png": "[encoded data removed]",
      "text/plain": [
       "<Figure size 640x480 with 1 Axes>"
      ]
     },
     "metadata": {},
     "output_type": "display_data"
    }
   ],
   "source": [
    "sns.violinplot(data=data_df, x=\"race\", y=\"time_in_hospital\")\n",
    "plt.title(\"Length of stay for different races\")\n",
    "plt.xlabel(\"\")\n",
    "plt.ylabel(\"Time in hospital (Days)\");"
   ]
  },
  {
   "cell_type": "markdown",
   "id": "54f822e8-e461-4d0a-8078-9a22711ab3f2",
   "metadata": {},
   "source": [
    "<h3> 15. Create a histogram to visualize the distribution of the number of diagnoses per patient</h3>"
   ]
  },
  {
   "cell_type": "code",
   "execution_count": 65,
   "id": "74cbf99d-d1eb-4f91-9468-7ca1bd4f94e4",
   "metadata": {
    "tags": []
   },
   "outputs": [
    {
     "data": {
      "image/png": "[encoded data removed]",
      "text/plain": [
       "<Figure size 800x600 with 1 Axes>"
      ]
     },
     "metadata": {},
     "output_type": "display_data"
    }
   ],
   "source": [
    "# Plotting the histogram\n",
    "plt.figure(figsize=(8, 6))\n",
    "plt.hist(data_df['number_diagnoses'], bins=20,\n",
    "         color='orange', edgecolor='black')\n",
    "\n",
    "# Adding labels and title\n",
    "plt.xlabel('Number of Diagnoses')\n",
    "plt.ylabel('Frequency')\n",
    "plt.title('Distribution of Number of Diagnoses per Patient');"
   ]
  },
  {
   "cell_type": "markdown",
   "id": "d1e53505-207a-40bb-b7c7-75de0fd5157c",
   "metadata": {
    "tags": []
   },
   "source": [
    "<h2>d. Questions revealing valuable insights from the dataset</h2>"
   ]
  },
  {
   "cell_type": "markdown",
   "id": "11457e01-6231-486a-ba5c-2af572689a0b",
   "metadata": {},
   "source": [
    "<h3> 16. Explore the readmission rates for patients with different A1C test results to identify any correlations.</h3>"
   ]
  },
  {
   "cell_type": "code",
   "execution_count": 66,
   "id": "e5800470-b57e-413e-9460-55be7d1da231",
   "metadata": {
    "tags": []
   },
   "outputs": [
    {
     "data": {
      "text/plain": [
       "None    84748\n",
       ">8       8216\n",
       "Norm     4990\n",
       ">7       3812\n",
       "Name: A1Cresult, dtype: int64"
      ]
     },
     "execution_count": 66,
     "metadata": {},
     "output_type": "execute_result"
    }
   ],
   "source": [
    "data_df['A1Cresult'].value_counts()"
   ]
  },
  {
   "cell_type": "code",
   "execution_count": 39,
   "id": "35a86a8f-b27d-4e36-9ecb-f717adaa348b",
   "metadata": {
    "tags": []
   },
   "outputs": [
    {
     "data": {
      "image/png": "[encoded data removed]",
      "text/plain": [
       "<Figure size 800x600 with 1 Axes>"
      ]
     },
     "metadata": {},
     "output_type": "display_data"
    }
   ],
   "source": [
    "# Group the data by 'A1Cresult' and calculate the readmission rate for each group\n",
    "a1c_grouped_data = data_df.groupby('A1Cresult')['readmitted'].value_counts(normalize=True).unstack()\n",
    "readmission_rates = a1c_grouped_data['<30']\n",
    "\n",
    "# Create a line plot to visualize the readmission rates for each A1C result\n",
    "plt.figure(figsize=(8, 6))\n",
    "sns.lineplot(x=readmission_rates.index, y=readmission_rates.values, data=readmission_rates, marker='o', color='blue')\n",
    "\n",
    "# Adding labels and title\n",
    "plt.xlabel('A1C Test Result')\n",
    "plt.ylabel('Readmission Rate')\n",
    "plt.title('Readmission Rates for Different A1C Test Results')\n",
    "plt.grid(axis='y')\n",
    "plt.tight_layout()\n"
   ]
  },
  {
   "cell_type": "markdown",
   "id": "bba36dd1-b4ac-4003-b8da-a3e759b6872f",
   "metadata": {},
   "source": [
    "<h3> 17. Analyze the average number of procedures for patients who were readmitted within 30 days compared to those who were not.</h3>"
   ]
  },
  {
   "cell_type": "code",
   "execution_count": 68,
   "id": "034bf197-3ac3-4bae-b44e-e1938d2e0a7a",
   "metadata": {
    "tags": []
   },
   "outputs": [],
   "source": [
    "# Calculate the average number of procedures for patients who were readmitted within 30 days\n",
    "readmitted_within_30_days = data_df[data_df['readmitted'] == '<30']\n",
    "avg_procedures_for_readmitted = readmitted_within_30_days['num_procedures'].mean(\n",
    ")"
   ]
  },
  {
   "cell_type": "code",
   "execution_count": 69,
   "id": "fd16cb4f-b649-4aab-9155-0ad193ea0396",
   "metadata": {
    "tags": []
   },
   "outputs": [],
   "source": [
    "# Calculate the average number of procedures for patients who were not readmitted within 30 days\n",
    "not_readmitted_within_30_days = data_df[data_df['readmitted'] != '<30']\n",
    "avg_procedures_for_not_readmitted = not_readmitted_within_30_days['num_procedures'].mean(\n",
    ")"
   ]
  },
  {
   "cell_type": "code",
   "execution_count": 70,
   "id": "a66d5832-ff44-4fab-b005-33679863c8c4",
   "metadata": {
    "tags": []
   },
   "outputs": [
    {
     "name": "stdout",
     "output_type": "stream",
     "text": [
      "The average number of procedures for patients who were readmitted within 30 days is 1.28\n",
      "The average number of procedures for patients who were not readmittied is 1.35\n"
     ]
    }
   ],
   "source": [
    "print(\n",
    "    f\"The average number of procedures for patients who were readmitted within 30 days is {avg_procedures_for_readmitted:.2f}\")\n",
    "print(\n",
    "    f\"The average number of procedures for patients who were not readmittied is {avg_procedures_for_not_readmitted:.2f}\")"
   ]
  },
  {
   "cell_type": "markdown",
   "id": "ba03d970-1086-4345-91c1-ed9a78bd2558",
   "metadata": {},
   "source": [
    "<h3> 18. Determine the most common medical specialty for patients who had a length of stay greater than the median length of stay. </h3>"
   ]
  },
  {
   "cell_type": "code",
   "execution_count": 71,
   "id": "b2a5b9eb-4a65-4dcc-af26-a72367fabb32",
   "metadata": {
    "tags": []
   },
   "outputs": [
    {
     "name": "stdout",
     "output_type": "stream",
     "text": [
      "The most common medical specialty for patients who had a length of stay greater than the median length of stay: InternalMedicine\n"
     ]
    }
   ],
   "source": [
    "# Calculate the median length of stay\n",
    "median_length_of_stay = data_df['time_in_hospital'].median()\n",
    "\n",
    "# Filter the data to include only patients with a length of stay greater than the median\n",
    "long_stay_patients = data_df[data_df['time_in_hospital']\n",
    "                             > median_length_of_stay]\n",
    "\n",
    "# Determine the most common medical specialty for these patients\n",
    "most_common_specialty = long_stay_patients['medical_specialty'].mode(\n",
    ").values[0]\n",
    "\n",
    "print(f\"The most common medical specialty for patients who had a length of stay greater than the median length of stay:\",\n",
    "      most_common_specialty)"
   ]
  },
  {
   "cell_type": "markdown",
   "id": "50f2a254-d4e7-4d4e-ac8d-10ffb0d93118",
   "metadata": {},
   "source": [
    "<h3> 19. What are the most common medications prescribed for patients who had a length of stay greater than the median length of stay?</h3>"
   ]
  },
  {
   "cell_type": "code",
   "execution_count": 72,
   "id": "55519f57-6c36-4322-85fe-f02b286f4839",
   "metadata": {
    "tags": []
   },
   "outputs": [],
   "source": [
    "medication_columns = ['metformin',\n",
    "                      'repaglinide', 'nateglinide', 'chlorpropamide', 'glimepiride',\n",
    "                      'acetohexamide', 'glipizide', 'glyburide', 'tolbutamide',\n",
    "                      'pioglitazone', 'rosiglitazone', 'acarbose', 'miglitol', 'troglitazone',\n",
    "                      'tolazamide', 'examide', 'citoglipton', 'insulin']\n",
    "\n",
    "# Check the medication columns for Steady, Up or Down this means the medication was used\n",
    "medications = long_stay_patients[medication_columns].apply(\n",
    "    lambda x: x.eq('Steady') | x.eq('Up') | x.eq('Down'))"
   ]
  },
  {
   "cell_type": "code",
   "execution_count": 73,
   "id": "4042c442-1eb4-45ab-9084-24b6d454a901",
   "metadata": {
    "tags": []
   },
   "outputs": [],
   "source": [
    "# Get the counts of all the medications\n",
    "medication_counts = medications.apply(lambda x: x.sum())"
   ]
  },
  {
   "cell_type": "code",
   "execution_count": 74,
   "id": "2ef33e3b-6d31-46a8-9679-6f4c832dd277",
   "metadata": {
    "tags": []
   },
   "outputs": [],
   "source": [
    "# Get the top 5 medications\n",
    "most_common_medications = medication_counts.nlargest(5)"
   ]
  },
  {
   "cell_type": "code",
   "execution_count": 75,
   "id": "c87c3d14-c954-4d54-91ec-f47bac87886e",
   "metadata": {
    "tags": []
   },
   "outputs": [
    {
     "name": "stdout",
     "output_type": "stream",
     "text": [
      "The most common medications prescribed for patients who had a length of stay greater than the median length of stay are:\n"
     ]
    },
    {
     "data": {
      "text/plain": [
       "insulin         22694\n",
       "metformin        7438\n",
       "glipizide        5041\n",
       "glyburide        4373\n",
       "pioglitazone     2843\n",
       "dtype: int64"
      ]
     },
     "execution_count": 75,
     "metadata": {},
     "output_type": "execute_result"
    }
   ],
   "source": [
    "print(\"The most common medications prescribed for patients who had a length of stay greater than the median length of stay are:\")\n",
    "most_common_medications"
   ]
  },
  {
   "cell_type": "markdown",
   "id": "879a8223-d3df-414c-a5e2-d639022a4565",
   "metadata": {},
   "source": [
    "<h3>20. Are there any patterns in the admission sources for patients who were readmitted within 30 days? Do certain admission sources have a higher readmission rate than others?\n",
    "</h3>"
   ]
  },
  {
   "cell_type": "code",
   "execution_count": 76,
   "id": "a7ce1c2b-39f8-42fa-9202-eee9c932e84f",
   "metadata": {
    "tags": []
   },
   "outputs": [
    {
     "data": {
      "image/png": "[encoded data removed]",
      "text/plain": [
       "<Figure size 1000x600 with 1 Axes>"
      ]
     },
     "metadata": {},
     "output_type": "display_data"
    }
   ],
   "source": [
    "# Calculate the readmission rate for each admission source\n",
    "readmission_rates = readmitted_within_30_days['admission_source_id_description'].value_counts(\n",
    "    normalize=True) * 100\n",
    "\n",
    "# Sort the readmission rates in descending order to identify the highest rates\n",
    "sorted_readmission_rates = readmission_rates.sort_values(ascending=False)\n",
    "\n",
    "# Create a bar plot to visualize the readmission rates for each admission source\n",
    "plt.figure(figsize=(10, 6))\n",
    "sns.barplot(y=sorted_readmission_rates.index,\n",
    "            x=sorted_readmission_rates.values, palette='pastel')\n",
    "\n",
    "# Adding labels and title\n",
    "plt.ylabel('')\n",
    "plt.xlabel('Readmission Rate (%)')\n",
    "plt.title('Readmission Rates by Admission Source for Patients Within 30 Days');"
   ]
  },
  {
   "cell_type": "markdown",
   "id": "288476f3-5cfa-40e4-a6a1-90e3a1302f0c",
   "metadata": {},
   "source": [
    "<hr>"
   ]
  },
  {
   "cell_type": "markdown",
   "id": "4c9a5468-009d-4345-8957-d236ff73b658",
   "metadata": {},
   "source": [
    "<h3> 21. Calculate the percentage of patients who had 'number_inpatient' greater than zero and also had 'number_outpatient' greater than zero.</h3>"
   ]
  },
  {
   "cell_type": "code",
   "execution_count": 77,
   "id": "2af18844-85b9-45f5-ab85-53433450556c",
   "metadata": {
    "tags": []
   },
   "outputs": [],
   "source": [
    "inpatient_outpatient_df = data_df[(data_df['number_inpatient'] > 0) & (\n",
    "    data_df['number_outpatient'] > 0)]"
   ]
  },
  {
   "cell_type": "code",
   "execution_count": 78,
   "id": "0c44cd17-243e-498b-ac6f-46f3e2c7e9a9",
   "metadata": {
    "tags": []
   },
   "outputs": [
    {
     "name": "stdout",
     "output_type": "stream",
     "text": [
      "The percentage of patients who had 'number_inpatient' and 'number_outpatient' greater than 0 are: 8.05 %\n"
     ]
    }
   ],
   "source": [
    "print(\n",
    "    f\"The percentage of patients who had 'number_inpatient' and 'number_outpatient' greater than 0 are: {(inpatient_outpatient_df.shape[0] / data_df.shape[0]) * 100:.2f} %\")"
   ]
  },
  {
   "cell_type": "markdown",
   "id": "813f92e9-ed86-4e5f-97bc-e0f2d4c8e164",
   "metadata": {},
   "source": [
    "<h3>22. Determine the highest & lowest 5 average number of lab procedures for medical specialties</h3>"
   ]
  },
  {
   "cell_type": "code",
   "execution_count": 31,
   "id": "8b799736-8e21-4751-aa05-ff35ce739249",
   "metadata": {
    "tags": []
   },
   "outputs": [],
   "source": [
    "med_spec_grouped = data_df.groupby('medical_specialty')[\n",
    "    'num_lab_procedures'].mean()"
   ]
  },
  {
   "cell_type": "code",
   "execution_count": 35,
   "id": "9df6cd28-5f99-41e9-998a-8c1151a601d5",
   "metadata": {
    "tags": []
   },
   "outputs": [
    {
     "name": "stdout",
     "output_type": "stream",
     "text": [
      "The 5 medical specialities with the lowest average number of lab procedures are:\n"
     ]
    },
    {
     "data": {
      "text/plain": [
       "medical_specialty\n",
       "Dermatology     2.00\n",
       "Obstetrics     14.89\n",
       "Gynecology     18.62\n",
       "Pathology      20.94\n",
       "Neurology      26.51\n",
       "Name: num_lab_procedures, dtype: float64"
      ]
     },
     "execution_count": 35,
     "metadata": {},
     "output_type": "execute_result"
    }
   ],
   "source": [
    "print(\"The 5 medical specialities with the lowest average number of lab procedures are:\")\n",
    "round(med_spec_grouped.sort_values(ascending=True).head(5),2)"
   ]
  },
  {
   "cell_type": "code",
   "execution_count": 36,
   "id": "834ab591-9101-4a6c-8249-0fe21d9e5678",
   "metadata": {
    "tags": []
   },
   "outputs": [
    {
     "name": "stdout",
     "output_type": "stream",
     "text": [
      "The 5 medical specialities with the highest average number of lab procedures are:\n"
     ]
    },
    {
     "data": {
      "text/plain": [
       "medical_specialty\n",
       "Psychiatry-Addictive              73.00\n",
       "DCPTEAM                           61.67\n",
       "Resident                          56.50\n",
       "Pediatrics-Hematology-Oncology    53.25\n",
       "Proctology                        53.00\n",
       "Name: num_lab_procedures, dtype: float64"
      ]
     },
     "execution_count": 36,
     "metadata": {},
     "output_type": "execute_result"
    }
   ],
   "source": [
    "print(\"The 5 medical specialities with the highest average number of lab procedures are:\")\n",
    "round(med_spec_grouped.sort_values(ascending=False).head(5),2)"
   ]
  },
  {
   "cell_type": "markdown",
   "id": "0d10bde9-7c9e-440a-ba40-b1f39e52b0d4",
   "metadata": {
    "tags": []
   },
   "source": [
    "<h3> 23. Visualize patients from each race/ethnicity group</h3>"
   ]
  },
  {
   "cell_type": "code",
   "execution_count": 81,
   "id": "dc96d22d-989c-43b2-9c2d-b33cc0f8e0e1",
   "metadata": {
    "tags": []
   },
   "outputs": [
    {
     "data": {
      "image/png": "[encoded data removed]",
      "text/plain": [
       "<Figure size 640x480 with 1 Axes>"
      ]
     },
     "metadata": {},
     "output_type": "display_data"
    }
   ],
   "source": [
    "sns.countplot(data=data_df, x='race')\n",
    "plt.title(\"Count of diabetic patients among ethnicities\")\n",
    "plt.tight_layout();"
   ]
  },
  {
   "cell_type": "markdown",
   "id": "ee3fe724-7bb4-4888-8082-72aff3f8cfa9",
   "metadata": {
    "tags": []
   },
   "source": [
    "<h3>24. Visualize using distributionplot the number of medications prescribed</h3>\n"
   ]
  },
  {
   "cell_type": "code",
   "execution_count": 82,
   "id": "4dbc5104-fb58-45ed-8056-84557671a87c",
   "metadata": {
    "tags": []
   },
   "outputs": [
    {
     "data": {
      "image/png": "[encoded data removed]",
      "text/plain": [
       "<Figure size 500x500 with 1 Axes>"
      ]
     },
     "metadata": {},
     "output_type": "display_data"
    }
   ],
   "source": [
    "sns.displot(data=data_df, x='num_medications',  kde=True, rug=True)\n",
    "plt.title(\"Distribution plot for number of medications prescribed\")\n",
    "plt.xlabel(\"Number of medications prescribed\")\n",
    "plt.tight_layout();"
   ]
  },
  {
   "cell_type": "markdown",
   "id": "eeaeb2e1-4ce0-448f-ae01-8bd7bc302c10",
   "metadata": {},
   "source": [
    "<h3> 25. Find the average time in the hospital for patients on number of diagnoses</h3>"
   ]
  },
  {
   "cell_type": "code",
   "execution_count": 83,
   "id": "c5f9b3ee-657b-4444-ba31-470feed80c81",
   "metadata": {
    "tags": []
   },
   "outputs": [],
   "source": [
    "average_time_by_diagnoses = data_df.groupby('number_diagnoses')['time_in_hospital'].mean()"
   ]
  },
  {
   "cell_type": "code",
   "execution_count": 84,
   "id": "fbf37528-0895-4c82-a4bb-06ea0f76bd4b",
   "metadata": {
    "tags": []
   },
   "outputs": [
    {
     "data": {
      "image/png": "[encoded data removed]",
      "text/plain": [
       "<Figure size 1000x600 with 1 Axes>"
      ]
     },
     "metadata": {},
     "output_type": "display_data"
    }
   ],
   "source": [
    "plt.figure(figsize=(10, 6))\n",
    "plt.bar(average_time_by_diagnoses.index, average_time_by_diagnoses.values, color='skyblue')\n",
    "plt.xlabel('Number of Diagnoses')\n",
    "plt.ylabel('Average Time in Hospital(Days)')\n",
    "plt.title('Average Time in Hospital for Patients with Different Number of Diagnoses')\n",
    "plt.tight_layout()"
   ]
  }
 ],
 "metadata": {
  "kernelspec": {
   "display_name": "Python 3 (ipykernel)",
   "language": "python",
   "name": "python3"
  },
  "language_info": {
   "codemirror_mode": {
    "name": "ipython",
    "version": 3
   },
   "file_extension": ".py",
   "mimetype": "text/x-python",
   "name": "python",
   "nbconvert_exporter": "python",
   "pygments_lexer": "ipython3",
   "version": "3.10.11"
  }
 },
 "nbformat": 4,
 "nbformat_minor": 5
}
